{
 "cells": [
  {
   "cell_type": "markdown",
   "id": "ca25ce17-703a-4985-b53e-79ce09116fa0",
   "metadata": {},
   "source": [
    "# Рябцев Константин ПМ24-6\n",
    "## Реализованы дополнительные задания 1-5"
   ]
  },
  {
   "cell_type": "code",
   "execution_count": 1962,
   "id": "15b79024-233a-48e6-9a11-c227e91bba72",
   "metadata": {},
   "outputs": [],
   "source": [
    "import csv\n",
    "import pickle\n",
    "import os\n",
    "from tabulate import *\n",
    "import datetime"
   ]
  },
  {
   "cell_type": "markdown",
   "id": "4162beba-d623-425b-aafe-c604695487d2",
   "metadata": {},
   "source": [
    "# Функции"
   ]
  },
  {
   "cell_type": "code",
   "execution_count": 1949,
   "id": "17b2031b-760a-4955-9f10-5c6669dc6560",
   "metadata": {},
   "outputs": [],
   "source": [
    "def load_table(*filenames, fmt=None, detect_types=False):\n",
    "    \n",
    "    # Проверка указания файла    \n",
    "    if not filenames:\n",
    "        raise ValueError(\"Не указаны файлы для загрузки\")\n",
    "        \n",
    "    # Проверка существования файла\n",
    "    for filename in filenames:\n",
    "        if not os.path.isfile(filename):\n",
    "            raise FileNotFoundError(\"Файла с таким названием не существует\")\n",
    "\n",
    "    # Определение формата по первому файлу, если не задан\n",
    "    if fmt is None:\n",
    "        _, ext = os.path.splitext(filenames[0])\n",
    "        if ext.lower() in ('.csv', '.pkl', '.txt'):\n",
    "            fmt = ext.lower()\n",
    "        else:\n",
    "            raise ValueError(\"Неизвестный формат файла. Используйте расширения .csv, .pkl или .txt\")\n",
    "\n",
    "    all_data = []\n",
    "    header = None  # Сохранение заголовока (подразумевается, что заголовок есть в каждой таблице)\n",
    "    reference_width = None  # Число столбцов в первой таблице\n",
    "\n",
    "    # Проверка файлов на одинаковость формата\n",
    "    for filename in filenames:\n",
    "        _, ext = os.path.splitext(filename)\n",
    "        if fmt !=  ext.lower():\n",
    "            raise ValueError(\"Все файлы должны быть одного формата\")\n",
    "\n",
    "        # Загрузка данных из файлов\n",
    "        data = []\n",
    "        if fmt == '.csv':\n",
    "            with open(filename, 'r', newline='', encoding='utf-8') as f:\n",
    "                reader = list(csv.reader(f))\n",
    "                #data = reader (Если строки в Excel таблице не слепляются в одну ячейку с delimiter=',', а с delimiter=';' слепляются, то использовать эту строчку).\n",
    "                # Закоментировать цикл ниже (отметил строчки знаком #), если с delimiter=';' строки в Excel таблице слепляются в одну ячейку. В функции save_table заменить значение delimiter на ',' (подписал, где это нужно сделать).\n",
    "                #data.extend(el.split(';') for el in line for line in reader)\n",
    "                for line in reader:  #\n",
    "                    for el in line:  #\n",
    "                        new_el = el.split(';')  #\n",
    "                        data.append(new_el)  #\n",
    "        elif fmt == '.pkl':\n",
    "            with open(filename, 'rb') as f:\n",
    "                data = pickle.load(f)\n",
    "        elif fmt == '.txt':\n",
    "            with open(filename, 'r', encoding='utf-8') as f:\n",
    "                lines = f.readlines()\n",
    "            data = [line.strip().split('\\t') for line in lines if line.strip()]\n",
    "\n",
    "        # Проверкамналичия данных в файлах\n",
    "        if not data:\n",
    "            raise ValueError(f\"Файл {filename} пустой\")\n",
    "\n",
    "        current_header = data[0]  # Заголовок первого файла\n",
    "        body = data[1:]  # Остальные строки\n",
    "\n",
    "        # Заполнение списка данными из файлов\n",
    "        if header is None:\n",
    "            header = current_header\n",
    "            reference_width = len(header)\n",
    "            # Проверка строк в первом файле\n",
    "            for line in body:\n",
    "                if len(line) != reference_width:\n",
    "                    raise ValueError(f\"Некорректная структура столбцов в файле {filename}\")\n",
    "            all_data.append(header)  \n",
    "            all_data.extend(body)\n",
    "        else:\n",
    "            # Проверка на совпадение заголовков в оставшихся файлах\n",
    "            if current_header != header:\n",
    "                raise ValueError(f\"Заголовок в файле {filename} не совпадает с заголовками предыдущих файлов\")\n",
    "            # Проверка строк в оставшихся файлах\n",
    "            for line in body:\n",
    "                if len(line) != reference_width:\n",
    "                    raise ValueError(f\"Некорректная структура столбцов в файле {filename}\")\n",
    "            all_data.extend(body)\n",
    "    \n",
    "    # Определение типа столбцов по надобности\n",
    "    if detect_types:\n",
    "        column_types = detect_column_types(all_data)\n",
    "        return all_data, column_types\n",
    "\n",
    "    return all_data"
   ]
  },
  {
   "cell_type": "code",
   "execution_count": 1576,
   "id": "9a3dd3f0-d462-4ed0-9900-e3268fbee6bf",
   "metadata": {},
   "outputs": [],
   "source": [
    "def save_table(data, filename, fmt=None, max_rows=None):\n",
    "    \n",
    "    # Проверка наличия данных\n",
    "    if not data:\n",
    "        raise ValueError(\"Нет данных для сохранения\")\n",
    "\n",
    "    # Проверка указания файла для сохранения\n",
    "    if not filename or not filename.strip():\n",
    "        raise ValueError(\"Не указан файл для сохранения\")\n",
    "\n",
    "    # Проверка формата, если не задан\n",
    "    if fmt is None:\n",
    "        _, ext = os.path.splitext(filename)\n",
    "        if ext.lower() in ('.csv', '.pkl', '.txt'):\n",
    "            fmt = ext.lower()\n",
    "        else:\n",
    "            raise ValueError(\"Неизвестный формат файла. Используйте расширения .csv, .pkl или .txt\")\n",
    "\n",
    "    # Проверка корректности ввода максимального количества строк в одном файле, если оно задано\n",
    "    if max_rows is not None and max_rows <= 0:\n",
    "        raise ValueError(f\"Параметр max_rows = {max_rows} может быть только положительным\")\n",
    "\n",
    "    # Запись данных в один файл\n",
    "    if max_rows is None or max_rows >= len(data):\n",
    "        if fmt == '.csv':\n",
    "            with open(filename, 'w', newline='', encoding='utf-8') as f:\n",
    "                writer = csv.writer(f, delimiter=';')  # Если в Excel таблице строка слепляется в одну ячейку, поменять значение delimiter на ','\n",
    "                writer.writerows(data)\n",
    "        elif fmt == '.pkl':\n",
    "            with open(filename, 'wb') as f:\n",
    "                pickle.dump(data, f)\n",
    "        elif fmt == '.txt':\n",
    "            with open(filename, 'w', encoding='utf-8') as f:\n",
    "                for line in data:\n",
    "                    f.write('\\t'.join(str(el) for el in line) + '\\n')\n",
    "        return\n",
    "\n",
    "    # Запись данных в несколько файлов\n",
    "    base, ext = os.path.splitext(filename)  # Базовое имя файла и его расширение\n",
    "    header = data[0]  # Заголовоки файлов (подразумевается, что заголовок будет в каждом файле)\n",
    "    total_rows = (len(data) - 1)  # Количество строк без учета заголовка (подразумевается, что в каждом файле количество строк будет = заголовочная строка + max_rows)\n",
    "    file_count = (total_rows // max_rows) + (1 if total_rows % max_rows else 0)  # Количество файлов на фаходе\n",
    "\n",
    "    start = 1\n",
    "    for i in range(1, file_count + 1):\n",
    "        end = min(start + max_rows, total_rows)\n",
    "        splited_data = [header]\n",
    "        if start != end:\n",
    "            splited_data.extend(data[start:end])\n",
    "        else:\n",
    "            splited_data.append(data[start])\n",
    "        # Создание имени для каждого файла с помощью добавления индекса к названию\n",
    "        splited_data_filename = f\"{base}_{i}{ext}\"\n",
    "\n",
    "        if fmt == '.csv':\n",
    "            with open(splited_data_filename, 'w', newline='', encoding='utf-8') as f:\n",
    "                writer = csv.writer(f, delimiter=';')\n",
    "                writer.writerows(splited_data)\n",
    "        elif fmt == '.pkl':\n",
    "            with open(splited_data_filename, 'wb') as f:\n",
    "                pickle.dump(splited_data, f)\n",
    "        elif fmt == '.txt':\n",
    "            with open(splited_data_filename, 'w', encoding='utf-8') as f:\n",
    "                for line in splited_data:\n",
    "                    f.write('\\t'.join(str(el) for el in line) + '\\n')\n",
    "\n",
    "        start = end"
   ]
  },
  {
   "cell_type": "code",
   "execution_count": 1131,
   "id": "c3cd3ffa-d579-4f89-872b-eca2ed07db36",
   "metadata": {},
   "outputs": [],
   "source": [
    "def get_rows_by_number(filename, start, stop=None, copy_table=False):\n",
    "\n",
    "    # Импорт данных из файла\n",
    "    data = load_table(filename)\n",
    "\n",
    "    # Проверка данных\n",
    "    if len(data) == 1:\n",
    "        raise ValueError(\"Таблица содержит только заголовок\")\n",
    "        \n",
    "    header = data[0]  # Заголовок\n",
    "    new_data = [header]  # Добавление заголовка, он не считается строкой данных\n",
    "    # Проверка корректности \"начального\" индекса\n",
    "    if start > len(data) - 1:  # Выситание заголовка \n",
    "        raise IndexError(\"Номер 'начальной' сохраняемой строки превышает количество строк в файле\")\n",
    "    if start <= 0:\n",
    "        raise IndexError(\"Номер 'начальной' сохраняемой строки может быть только положительным\")\n",
    "\n",
    "    # Проверка корректности \"конечного\" индекса\n",
    "    if stop is None or start == stop:\n",
    "        new_data.append(data[start])\n",
    "    elif stop > len(data) - 1:  # Выситание заголовка \n",
    "        raise IndexError(\"Номер 'последней' сохраняемой строки превышает количество строк в файле\")\n",
    "    elif stop <= 0:\n",
    "        raise IndexError(\"Номер 'последней' сохраняемой строки может быть только положительным\")\n",
    "    elif stop < start:\n",
    "        raise IndexError(\"Номер 'последней' сохраняемой строки не может превышать номер 'начальной' сохраняемой строки\")\n",
    "    else:\n",
    "        new_data.extend(data[start:(stop+1)])\n",
    "\n",
    "    # Если не нужно создавать новый файл\n",
    "    if not copy_table:\n",
    "        save_table(new_data, filename)\n",
    "        return\n",
    "    # Если нужно создать новый файл с копией данных\n",
    "    else:\n",
    "        base, ext = os.path.splitext(filename)\n",
    "        copied_filename = f\"{base}_copied{ext}\"\n",
    "        save_table(new_data, copied_filename)\n",
    "        return"
   ]
  },
  {
   "cell_type": "code",
   "execution_count": 1133,
   "id": "7560a61a-57f7-46f3-ad9d-c926f3f13f29",
   "metadata": {},
   "outputs": [],
   "source": [
    "def get_rows_by_index(filename, indices, copy_table=False):\n",
    "\n",
    "    if indices == ():\n",
    "        raise ValueError(\"Индексы не введены\")\n",
    "\n",
    "    # Импорт данных из файла\n",
    "    data = load_table(filename)\n",
    "\n",
    "    # Проверка данных\n",
    "    if len(data) == 1:\n",
    "        raise ValueError(\"Таблица содержит только заголовок\")\n",
    "        \n",
    "    header = data[0]  # Заголовок\n",
    "    header_with_ID = ['ID']\n",
    "    header_with_ID.extend(header)  # Создание нового заголовка с индексами строк\n",
    "    new_data = [header_with_ID]  # Добавление заголовка, он не считается строкой данных\n",
    "    \n",
    "    # Если введён один индекс\n",
    "    if isinstance(indices, int):\n",
    "        idx = int(indices)\n",
    "        # Проверка корректности индексов\n",
    "        if idx > len(data) - 1:  # Вычитание заголовка \n",
    "            raise IndexError(\"Номер строки превышает количество строк в файле\")\n",
    "        elif idx <= 0:\n",
    "            raise IndexError(\"Номер строки может быть только положительным\")\n",
    "        else:\n",
    "            new_line = [idx]\n",
    "            new_line.extend(data[idx])  # Добавление нужных строк с индексом в первом столбце таблицы\n",
    "            new_data.append(new_line)\n",
    "    else:\n",
    "        for idx in set(indices):  \n",
    "            # Проверка корректности индексов\n",
    "            if idx > len(data) - 1:  # Выситание заголовка \n",
    "                raise IndexError(\"Номер строки превышает количество строк в файле\")\n",
    "            elif idx <= 0:\n",
    "                raise IndexError(\"Номер строки может быть только положительным\")\n",
    "            else:\n",
    "                new_line = [idx]\n",
    "                new_line.extend(data[idx])  # Добавление нужных строк с индексом в первом столбце таблицы\n",
    "                new_data.append(new_line)\n",
    "            \n",
    "    # Если не нужно создавать новый файл\n",
    "    if not copy_table:\n",
    "        save_table(new_data, filename)\n",
    "        return\n",
    "    # Если нужно создать новый файл с копией данных\n",
    "    else:\n",
    "        base, ext = os.path.splitext(filename)\n",
    "        copied_filename = f\"{base}_copied{ext}\"\n",
    "        save_table(new_data, copied_filename)\n",
    "        return"
   ]
  },
  {
   "cell_type": "code",
   "execution_count": 1955,
   "id": "0cb143c9-ce24-42a9-8436-2a3c9189d537",
   "metadata": {},
   "outputs": [],
   "source": [
    "def get_column_types(filename, by_number=True):\n",
    "    \n",
    "    # Импорт данных из файла\n",
    "    data = load_table(filename)\n",
    "\n",
    "    # Проверка данных\n",
    "    if len(data) == 1:\n",
    "        raise ValueError(\"Таблица содержит только заголовок\")\n",
    "        \n",
    "    header = data[0]  # Заголовок\n",
    "    column_count = len(header)  # Количество столбцов в файле\n",
    "\n",
    "    # Первая строка после заголовка\n",
    "    first_line = data[1]\n",
    "\n",
    "    # Функция для определения типа одного значения\n",
    "    def detect_type(value):\n",
    "        if value in (\"True\", \"False\"):\n",
    "            return \"bool\"\n",
    "        try:\n",
    "            int(value)\n",
    "            return \"int\"\n",
    "        except ValueError:\n",
    "            pass\n",
    "        try:\n",
    "            float(value)\n",
    "            return \"float\"\n",
    "        except ValueError:\n",
    "            pass\n",
    "        try:\n",
    "            datetime.datetime.fromisoformat(value)\n",
    "            return \"datetime\"\n",
    "        except ValueError:\n",
    "            pass\n",
    "        return \"str\"\n",
    "\n",
    "    # Определение типа для каждого столбца по первой строки\n",
    "    column_types = {}\n",
    "    if by_number:\n",
    "        for col_idx in range(column_count):\n",
    "            column_types[col_idx+1] = detect_type(first_line[col_idx])\n",
    "    else:\n",
    "        for col_idx in range(column_count):\n",
    "            column_types[header[col_idx]] = detect_type(first_line[col_idx])\n",
    "\n",
    "    # Проверка остальных строк на соответствие типу столбца\n",
    "    for col_idx in range(column_count):\n",
    "        for line in data[2:]:\n",
    "            current_type = detect_type(line[col_idx])\n",
    "            value_type = list(column_types.values())[col_idx]\n",
    "            if current_type != value_type:\n",
    "                raise TypeError(f\"Разный тип значений в {col_idx}-м столбце\")\n",
    "\n",
    "    return column_types  "
   ]
  },
  {
   "cell_type": "code",
   "execution_count": 1957,
   "id": "7d6c834b-a7e0-440a-82d1-76e4c8455ded",
   "metadata": {},
   "outputs": [],
   "source": [
    "def set_column_types(filename, types_dict, by_number=True):  # Из задания е очень ясно, что должна делать эта функция, так что реализую её по смыслу программы\n",
    "    \n",
    "    '''\n",
    "        Функция принимает файл и словарь с типами столбцов.\n",
    "        Функция возвращает данные из файла со значениями в столбцах, приведёнными к нужным типам из словаря types_dict.\n",
    "        Если в словаре types_dict не задан тип столбца, то функция оставляет тип столбца по умолчанию (str).\n",
    "        Параметр by_number даёт вункции понять, каким образом определены столбцы в словаре types_dict.\n",
    "    '''\n",
    "    \n",
    "    # Импорт данных из файла\n",
    "    data = load_table(filename)\n",
    "\n",
    "    # Проверка данных\n",
    "    if len(data) == 1:\n",
    "        raise ValueError(\"Таблица содержит только заголовок\")\n",
    "\n",
    "    # Проверка наличия переданноый значений типов столбцов\n",
    "    if not types_dict:\n",
    "        raise ValueError(\"Значений типов столбцов не введены\")\n",
    "        \n",
    "    header = data[0]  # заголовок\n",
    "    column_count = len(header)  # Количество столбцов в файле\n",
    "\n",
    "    # Сопоставдение каждого индекса столбца с целевым типом столбца\n",
    "    col_type_map = {}\n",
    "\n",
    "    if by_number:\n",
    "        for col_num, col_type in types_dict.items():\n",
    "            # Проверка введённого словаря на крректность\n",
    "            if not isinstance(col_num, int):\n",
    "                raise ValueError(\"Словарь введён некорректно\")\n",
    "            real_index = col_num - 1\n",
    "            # Проверка индексов столбцов на корректность\n",
    "            if real_index < 0 or real_index >= column_count:\n",
    "                raise IndexError(f\"Столбец с индексом {col_num} некорректен (всего столбцов: {n_cols})\")\n",
    "            col_type_map[real_index] = col_type\n",
    "    else:\n",
    "        for col_name, col_type in types_dict.items():\n",
    "            # Проверка введённого словаря на крректность\n",
    "            if isinstance(col_name, int):\n",
    "                raise ValueError(\"Словарь введён некорректно\")\n",
    "            # Провека значений столбцов на корректность\n",
    "            if col_name not in header:\n",
    "                raise ValueError(f\"В заголовке нет столбца с названием '{col_name}'\")\n",
    "            real_index = header.index(col_name)\n",
    "            col_type_map[real_index] = col_type\n",
    "\n",
    "    # Функция приведения значения к нужному типу\n",
    "    def cast_value(value, to_type):\n",
    "        if to_type == 'int':\n",
    "            return int(value)\n",
    "        elif to_type == 'float':\n",
    "            return float(value)\n",
    "        elif to_type == 'bool':\n",
    "            return str(value).lower() in ('true', '1', 'yes')\n",
    "        elif to_type == 'datetime':\n",
    "            return datetime.datetime.fromisoformat(value)\n",
    "        else:\n",
    "            return str(value)\n",
    "\n",
    "    # Присвоение типов значений столбцов\n",
    "    for line_idx in range(1, len(data)):\n",
    "        for col_idx in range(column_count):\n",
    "            # Присвоение нового типа значениям в столбцах\n",
    "            current_type = col_type_map.get(col_idx, 'str')\n",
    "            original_value = data[line_idx][col_idx]\n",
    "            try:\n",
    "                data[line_idx][col_idx] = cast_value(original_value, current_type)\n",
    "            except ValueError:\n",
    "                raise ValueError(\n",
    "                    f\"Не удалось привести значение '{original_value}' в столбце '{header[col_idx]}' к типу {current_type}\"\n",
    "                )\n",
    "\n",
    "    return data"
   ]
  },
  {
   "cell_type": "code",
   "execution_count": 1139,
   "id": "f521ab92-28a9-4d1a-bde3-71e511f6bf8a",
   "metadata": {},
   "outputs": [],
   "source": [
    "def get_values(data, column=1):\n",
    "\n",
    "    # Проверка наличия данных\n",
    "    if not data:\n",
    "        raise ValueError(\"Нет данных\")\n",
    "\n",
    "    # Проверка данных\n",
    "    if len(data) == 1:\n",
    "        raise ValueError(\"Таблица содержит только заголовок\")\n",
    "    \n",
    "    header = data[0]  # Заголовок\n",
    "    column_count = len(header)  # Количество столбцов в файле\n",
    "\n",
    "    # Определение индекса столбца\n",
    "    if isinstance(column, int):\n",
    "        # Проверка корректности индекса введенного столбца\n",
    "        if column <= 0 or column > column_count:\n",
    "            raise IndexError(f\"Некорректный номер столбца: {column}. Всего столбцов: {column_count}\")\n",
    "        col_idx = column - 1 \n",
    "    else:\n",
    "        # Проверка корректности названия введенного столбца\n",
    "        if column not in header:\n",
    "            raise ValueError(f\"В заголовке нет столбца с названием '{column}'\")\n",
    "        col_idx = header.index(column)\n",
    "\n",
    "    # Предполагается, что таблица уже типизирована (если вызывалась set_column_types),\n",
    "    values = [line[col_idx] for line in data[1:]]\n",
    "\n",
    "    return values"
   ]
  },
  {
   "cell_type": "code",
   "execution_count": 1294,
   "id": "4b9e9870-5f5f-4ac6-91cc-55f1a7c083a2",
   "metadata": {},
   "outputs": [],
   "source": [
    "def get_value(data, column=1):\n",
    "    \n",
    "    # Проверка наличия данных\n",
    "    if not data:\n",
    "        raise ValueError(\"Нет данных\")\n",
    "\n",
    "    # Проверка данных\n",
    "    if len(data) == 1:\n",
    "        raise ValueError(\"Таблица содержит только заголовок\")\n",
    "    if len(data) > 2:\n",
    "        raise ValueError(\"В таблице должна быть одна строка без учёта заголовка\")\n",
    "\n",
    "    header = data[0]  # Заголовок\n",
    "    column_count = len(header)  # Количество столбцов в файле\n",
    "\n",
    "    # Определение индекса столбца\n",
    "    if isinstance(column, int):\n",
    "        # Проверка корректности индекса введенного столбца\n",
    "        if column <= 0 or column > column_count:\n",
    "            raise IndexError(f\"Некорректный номер столбца: {column}. Всего столбцов: {column_count}\")\n",
    "        col_idx = column - 1 \n",
    "    else:\n",
    "        # Проверка корректности названия введенного столбца\n",
    "        if column not in header:\n",
    "            raise ValueError(f\"В заголовке нет столбца с названием '{column}'\")\n",
    "        col_idx = header.index(column)\n",
    "\n",
    "    # Предполагается, что таблица уже типизирована (если вызывалась set_column_types),\n",
    "    value = data[1][col_idx]\n",
    "\n",
    "    return value"
   ]
  },
  {
   "cell_type": "code",
   "execution_count": 1302,
   "id": "33dbc05e-fe9e-47ef-b522-7aa7e7ccca97",
   "metadata": {},
   "outputs": [],
   "source": [
    "def set_values(data, values, column=1):\n",
    "\n",
    "    # Проверка наличия данных\n",
    "    if not data:\n",
    "        raise ValueError(\"Нет данных\")\n",
    "    if not values:\n",
    "        raise ValueError(f\"Нет данных о значениях столбца {column}\")\n",
    "\n",
    "    # Проверка данных\n",
    "    if len(data) == 1:\n",
    "        raise ValueError(\"Таблица содержит только заголовок\")\n",
    "\n",
    "    # Проверка корректрости переданных значений в столбце\n",
    "    if len(data) - 1 != len(values):\n",
    "        raise ValueError(\"Количество значений в переданном столбце не совпадает с количеством значений в столбце таблицы\")\n",
    "    \n",
    "    header = data[0]  # Заголовок\n",
    "    column_count = len(header)  # Количество столбцов в файле\n",
    "    new_data = [header]  # Новый список данных\n",
    "\n",
    "    # Определение индекса столбца\n",
    "    if isinstance(column, int):\n",
    "        # Проверка корректности индекса введенного столбца\n",
    "        if column <= 0 or column > column_count:\n",
    "            raise IndexError(f\"Некорректный номер столбца: {column}. Всего столбцов: {column_count}\")\n",
    "        \n",
    "        col_idx = column - 1 \n",
    "    else:\n",
    "        # Проверка корректности названия введенного столбца\n",
    "        if column not in header:\n",
    "            raise ValueError(f\"В заголовке нет столбца с названием '{column}'\")\n",
    "        col_idx = header.index(column)\n",
    "\n",
    "    # Заполнение нового списка данных\n",
    "    for line_idx, line in enumerate(data[1:]):\n",
    "        new_line = []\n",
    "        for idx, el in enumerate(line):\n",
    "            if idx == col_idx:\n",
    "                # Проверка на совпадение типа значения с типом столбца\n",
    "                if type(el) == type(values[line_idx]):\n",
    "                    new_line.append(values[line_idx])\n",
    "                else:\n",
    "                    raise TypeError(f\"Тип значения {values[line_idx]} не совпадает с типом столбца {column}\")\n",
    "            else:\n",
    "                new_line.append(el)\n",
    "        new_data.append(new_line)\n",
    "\n",
    "    return new_data"
   ]
  },
  {
   "cell_type": "code",
   "execution_count": 1426,
   "id": "5163f644-6c4b-4559-a407-eb51e3f6ab12",
   "metadata": {},
   "outputs": [],
   "source": [
    "def set_value(data, value, column=1):\n",
    "\n",
    "    # Проверка наличия данных\n",
    "    if not data:\n",
    "        raise ValueError(\"Нет данных\")\n",
    "    if not value:\n",
    "        raise ValueError(f\"Нет данный о значении столбца {column}\")\n",
    "\n",
    "    # Проверка данных\n",
    "    if len(data) == 1:\n",
    "        raise ValueError(\"Таблица содержит только заголовок\")\n",
    "    if len(data) > 2:\n",
    "        raise ValueError(\"В таблице должна быть одна строка без учёта заголовка\")\n",
    "    \n",
    "    header = data[0]  # Заголовок\n",
    "    column_count = len(header)  # Количество столбцов в файле\n",
    "    new_data = [header]  # Новый список данных\n",
    "\n",
    "    # Определение индекса столбца\n",
    "    if isinstance(column, int):\n",
    "        # Проверка корректности индекса введенного столбца\n",
    "        if column <= 0 or column > column_count:\n",
    "            raise IndexError(f\"Некорректный номер столбца: {column}. Всего столбцов: {column_count}\")\n",
    "        \n",
    "        col_idx = column - 1 \n",
    "    else:\n",
    "        # Проверка корректности названия введенного столбца\n",
    "        if column not in header:\n",
    "            raise ValueError(f\"В заголовке нет столбца с названием '{column}'\")\n",
    "        col_idx = header.index(column)\n",
    "\n",
    "    # Заполнение нового списка данных\n",
    "    new_line = []\n",
    "    for el_idx in range(column_count):\n",
    "        el = data[1][el_idx]\n",
    "        if el_idx == col_idx:\n",
    "            # Проверка на совпадение типа значения с типом столбца\n",
    "            if type(el) == type(value):\n",
    "                new_line.append(value)\n",
    "            else:\n",
    "                raise TypeError(f\"Тип значения {value} не совпадает с типом столбца {column}\")\n",
    "        else:\n",
    "            new_line.append(el)\n",
    "    new_data.append(new_line)\n",
    "\n",
    "    return new_data"
   ]
  },
  {
   "cell_type": "code",
   "execution_count": 1580,
   "id": "9750f41d-f63f-45df-95c1-4338416ca9f0",
   "metadata": {},
   "outputs": [],
   "source": [
    "def print_table(data):\n",
    "\n",
    "    # Проверка наличия данных\n",
    "    if not data:\n",
    "        raise ValueError(\"Нет данных\")\n",
    "        \n",
    "    # Красивый вывод\n",
    "    print(tabulate(data[1:], data[0], tablefmt=\"fancy_grid\"))"
   ]
  },
  {
   "cell_type": "markdown",
   "id": "f6777cc5-ca89-42a9-91e2-d1bb99373328",
   "metadata": {},
   "source": [
    "# Дополнительные Функции"
   ]
  },
  {
   "cell_type": "code",
   "execution_count": 1598,
   "id": "f53de413-3b1c-43b2-8b22-06b5fcdddb30",
   "metadata": {},
   "outputs": [],
   "source": [
    "def concat(data1, data2):\n",
    "    \n",
    "    # Проверка наличия данных data1\n",
    "    if not data1:\n",
    "        raise ValueError(f\"Нет данных в {data1}\")\n",
    "\n",
    "    # Проверка данных data1\n",
    "    if len(data1) == 1:\n",
    "        raise ValueError(f\"Таблица {data1} содержит только заголовок\")\n",
    "\n",
    "    # Проверка наличия данных data2\n",
    "    if not data2:\n",
    "        raise ValueError(f\"Нет данных в {data2}\")\n",
    "\n",
    "    # Проверка данных data2\n",
    "    if len(data2) == 1:\n",
    "        raise ValueError(f\"Таблица {data2} содержит только заголовок\")\n",
    "\n",
    "    header1 = data1[0]  # Заголовок data1\n",
    "    header2 = data2[0]  # Заголовок data2\n",
    "    column_count1 = len(header1)  # Количество столбцов в data1\n",
    "    column_count2 = len(header2)  # Количество столбцов в data2\n",
    "\n",
    "    # Проверка совпадения форматов data1 и data2\n",
    "    if header1 != header2 or column_count1 != column_count2:\n",
    "        raise ValueError(\"Разные форматы таблиц\")\n",
    "\n",
    "    # Создание новых данных\n",
    "    new_data = []\n",
    "    new_data.extend(data1)\n",
    "    new_data.extend(data2[1:])\n",
    "\n",
    "    return new_data"
   ]
  },
  {
   "cell_type": "code",
   "execution_count": 1638,
   "id": "2860729d-37f3-4492-aca2-b9e50c24e756",
   "metadata": {},
   "outputs": [],
   "source": [
    "def split(data, line_num):\n",
    "\n",
    "    # Проверка наличия данных\n",
    "    if not data:\n",
    "        raise ValueError(\"Нет данных\")\n",
    "\n",
    "    # Проверка наличия рвзделительной строки\n",
    "    if not line_num:\n",
    "        raise ValueError(\"Не введено значение разделительной строки\")\n",
    "\n",
    "    # Проверка данных\n",
    "    if len(data) == 1:\n",
    "        raise ValueError(\"Таблица содержит только заголовок\")\n",
    "\n",
    "    # Проверка корректности переданного значения строки\n",
    "    if line_num >= len(data) - 1 or line_num <= 0:\n",
    "        raise ValueError(\"Значение разделительной строки введено некорректно\")\n",
    "\n",
    "    header = data[0]  # Заголовок\n",
    "    \n",
    "    # Новые таблицы\n",
    "    data1 = [header]\n",
    "    data2 = [header]\n",
    "    data1.extend(data[1:(line_num+1)])\n",
    "    data2.extend(data[(line_num+1):])\n",
    "\n",
    "    return data1, data2"
   ]
  },
  {
   "cell_type": "code",
   "execution_count": 1814,
   "id": "45af1bbe-f55e-426e-85e9-71028546754d",
   "metadata": {},
   "outputs": [],
   "source": [
    "def detect_column_types(data):\n",
    "\n",
    "    # Проверка наличия данных\n",
    "    if not data:\n",
    "        raise ValueError(\"Нет данных\")\n",
    "        \n",
    "    # Проверка данных\n",
    "    if len(data) == 1:\n",
    "        raise ValueError(\"Таблица содержит только заголовок\")\n",
    "\n",
    "    header = data[0]  # Заголовок\n",
    "    column_count = len(data[0])  # Количество строк\n",
    "    first_data_line = data[1]  # Первая строка после заголовка\n",
    "\n",
    "    # Функции для определения типа\n",
    "    def is_int(value: str) -> bool:\n",
    "        try:\n",
    "            int(value)\n",
    "            return True\n",
    "        except ValueError:\n",
    "            return False\n",
    "\n",
    "    def is_float(value: str) -> bool:\n",
    "        try:\n",
    "            float(value)\n",
    "            return True\n",
    "        except ValueError:\n",
    "            return False\n",
    "\n",
    "    def is_bool(value: str) -> bool:\n",
    "        lower_val = value.strip().lower()\n",
    "        return lower_val in (\"true\", \"false\", \"0\", \"1\", \"да\", \"нет\")\n",
    "\n",
    "    def is_date(value: str, date_formats=None) -> bool:\n",
    "        import datetime\n",
    "        if date_formats is None:\n",
    "            date_formats = [\"%Y-%m-%d\", \"%d.%m.%Y\"]\n",
    "        for fmt in date_formats:\n",
    "            try:\n",
    "                datetime.datetime.strptime(value, fmt)\n",
    "                return True\n",
    "            except ValueError:\n",
    "                continue\n",
    "        return False\n",
    "\n",
    "    # Определение типа по первой строке после заголовка\n",
    "    detected_types = []\n",
    "    for val in first_data_line:\n",
    "        if is_int(val):\n",
    "            detected_types.append(\"int\")\n",
    "        elif is_float(val):\n",
    "            detected_types.append(\"float\")\n",
    "        elif is_bool(val):\n",
    "            detected_types.append(\"bool\")\n",
    "        elif is_date(val):\n",
    "            detected_types.append(\"date\")\n",
    "        else:\n",
    "            detected_types.append(\"str\")\n",
    "\n",
    "    return detected_types"
   ]
  },
  {
   "cell_type": "markdown",
   "id": "e4510b15-2474-4fc1-957e-5403d50efbd5",
   "metadata": {},
   "source": [
    "# Функции load_table(), save_table() и print_table()"
   ]
  },
  {
   "cell_type": "code",
   "execution_count": 1964,
   "id": "fcc80825-a5f7-415f-8a33-74868137f420",
   "metadata": {},
   "outputs": [
    {
     "data": {
      "text/plain": [
       "[['Name', 'Age', 'City'],\n",
       " ['Alice', '30', 'New York'],\n",
       " ['Bob', '25', 'London'],\n",
       " ['Charlie', '35', 'Paris'],\n",
       " ['David', '40', 'Berlin'],\n",
       " ['Eve', '28', 'Tokyo']]"
      ]
     },
     "execution_count": 1964,
     "metadata": {},
     "output_type": "execute_result"
    }
   ],
   "source": [
    "table = [\n",
    "        [\"Name\", \"Age\", \"City\"],\n",
    "        [\"Alice\", \"30\", \"New York\"],\n",
    "        [\"Bob\", \"25\", \"London\"],\n",
    "        [\"Charlie\", \"35\", \"Paris\"],\n",
    "        [\"David\", \"40\", \"Berlin\"],\n",
    "        [\"Eve\", \"28\", \"Tokyo\"]\n",
    "    ]\n",
    "table"
   ]
  },
  {
   "cell_type": "code",
   "execution_count": 1966,
   "id": "e28d3012-b06e-4209-ba5a-eb8e7c0a79a2",
   "metadata": {},
   "outputs": [],
   "source": [
    "table_1 = [[\"Name\", \"Age\", \"City\"]]"
   ]
  },
  {
   "cell_type": "code",
   "execution_count": 1968,
   "id": "b7d70b59-d621-44a9-b6e5-e14615522804",
   "metadata": {},
   "outputs": [
    {
     "name": "stdout",
     "output_type": "stream",
     "text": [
      "Загружено из TXT:\n",
      "╒═════════╤═══════╤══════════╕\n",
      "│ Name    │   Age │ City     │\n",
      "╞═════════╪═══════╪══════════╡\n",
      "│ Alice   │    30 │ New York │\n",
      "├─────────┼───────┼──────────┤\n",
      "│ Bob     │    25 │ London   │\n",
      "├─────────┼───────┼──────────┤\n",
      "│ Charlie │    35 │ Paris    │\n",
      "├─────────┼───────┼──────────┤\n",
      "│ David   │    40 │ Berlin   │\n",
      "├─────────┼───────┼──────────┤\n",
      "│ Eve     │    28 │ Tokyo    │\n",
      "╘═════════╧═══════╧══════════╛\n",
      "Загружено из разбитых TXT:\n",
      "╒═════════╤═══════╤══════════╕\n",
      "│ Name    │   Age │ City     │\n",
      "╞═════════╪═══════╪══════════╡\n",
      "│ Alice   │    30 │ New York │\n",
      "├─────────┼───────┼──────────┤\n",
      "│ Bob     │    25 │ London   │\n",
      "├─────────┼───────┼──────────┤\n",
      "│ Charlie │    35 │ Paris    │\n",
      "╘═════════╧═══════╧══════════╛\n"
     ]
    }
   ],
   "source": [
    "# Сохранение в txt без разбивки\n",
    "save_table(table, \"example.txt\")\n",
    "# Загрузка из одного txt\n",
    "loaded_txt = load_table(\"example.txt\")\n",
    "print(\"Загружено из TXT:\")\n",
    "print_table(loaded_txt)\n",
    "# Сохранение в txt с разбивкой\n",
    "save_table(table, \"example_split.txt\", max_rows=1)\n",
    "# Получаются файлы example_split_1.txt, example_split_2.txt, example_split_3.txt\n",
    "# Каждый должен содержать заголовок и по одной строке тела.\n",
    "loaded_split_txt = load_table(\"example_split_1.txt\", \"example_split_2.txt\", \"example_split_3.txt\")\n",
    "print(\"Загружено из разбитых TXT:\")\n",
    "print_table(loaded_split_txt)"
   ]
  },
  {
   "cell_type": "code",
   "execution_count": 1970,
   "id": "06299432-d420-497a-8b5a-667c2b5a82d2",
   "metadata": {},
   "outputs": [
    {
     "name": "stdout",
     "output_type": "stream",
     "text": [
      "Загружено из CSV:\n",
      "╒═════════╤═══════╤══════════╕\n",
      "│ Name    │   Age │ City     │\n",
      "╞═════════╪═══════╪══════════╡\n",
      "│ Alice   │    30 │ New York │\n",
      "├─────────┼───────┼──────────┤\n",
      "│ Bob     │    25 │ London   │\n",
      "├─────────┼───────┼──────────┤\n",
      "│ Charlie │    35 │ Paris    │\n",
      "├─────────┼───────┼──────────┤\n",
      "│ David   │    40 │ Berlin   │\n",
      "├─────────┼───────┼──────────┤\n",
      "│ Eve     │    28 │ Tokyo    │\n",
      "╘═════════╧═══════╧══════════╛\n",
      "Загружено из разбитых CSV:\n",
      "╒═════════╤═══════╤══════════╕\n",
      "│ Name    │   Age │ City     │\n",
      "╞═════════╪═══════╪══════════╡\n",
      "│ Alice   │    30 │ New York │\n",
      "├─────────┼───────┼──────────┤\n",
      "│ Bob     │    25 │ London   │\n",
      "├─────────┼───────┼──────────┤\n",
      "│ Charlie │    35 │ Paris    │\n",
      "├─────────┼───────┼──────────┤\n",
      "│ David   │    40 │ Berlin   │\n",
      "├─────────┼───────┼──────────┤\n",
      "│ Eve     │    28 │ Tokyo    │\n",
      "╘═════════╧═══════╧══════════╛\n"
     ]
    }
   ],
   "source": [
    "# Сохраняем в CSV без разбивки\n",
    "save_table(table, \"example.csv\")\n",
    "# Загружаем из одного CSV\n",
    "loaded_csv = load_table(\"example.csv\")\n",
    "print(\"Загружено из CSV:\")\n",
    "print_table(loaded_csv)\n",
    "# Проверка разбиения для CSV\n",
    "save_table(table, \"example_split.csv\", max_rows=2)  # Параметр max_rows не учитывает заголовок, то есть в таблице будет 1 строка заголовка + две строки данных\n",
    "loaded_split_csv = load_table(\"example_split_1.csv\", \"example_split_2.csv\", \"example_split_3.csv\")\n",
    "print(\"Загружено из разбитых CSV:\")\n",
    "print_table(loaded_split_csv)"
   ]
  },
  {
   "cell_type": "code",
   "execution_count": 1972,
   "id": "8d00a584-61aa-4848-aa47-fadea3507fa5",
   "metadata": {},
   "outputs": [
    {
     "name": "stdout",
     "output_type": "stream",
     "text": [
      "Загружено из pickle:\n",
      "╒═════════╤═══════╤══════════╕\n",
      "│ Name    │   Age │ City     │\n",
      "╞═════════╪═══════╪══════════╡\n",
      "│ Alice   │    30 │ New York │\n",
      "├─────────┼───────┼──────────┤\n",
      "│ Bob     │    25 │ London   │\n",
      "├─────────┼───────┼──────────┤\n",
      "│ Charlie │    35 │ Paris    │\n",
      "├─────────┼───────┼──────────┤\n",
      "│ David   │    40 │ Berlin   │\n",
      "├─────────┼───────┼──────────┤\n",
      "│ Eve     │    28 │ Tokyo    │\n",
      "╘═════════╧═══════╧══════════╛\n",
      "Загружено из разбитых pickle:\n",
      "╒════════╤═══════╤══════════╕\n",
      "│ Name   │   Age │ City     │\n",
      "╞════════╪═══════╪══════════╡\n",
      "│ Alice  │    30 │ New York │\n",
      "├────────┼───────┼──────────┤\n",
      "│ Bob    │    25 │ London   │\n",
      "├────────┼───────┼──────────┤\n",
      "│ Eve    │    28 │ Tokyo    │\n",
      "╘════════╧═══════╧══════════╛\n"
     ]
    }
   ],
   "source": [
    "# Сохраняем в pickle без разбивки\n",
    "save_table(table, \"example.pkl\")\n",
    "# Загружаем из одного pickle\n",
    "loaded_pkl = load_table(\"example.pkl\")\n",
    "print(\"Загружено из pickle:\")\n",
    "print_table(loaded_pkl)\n",
    "# Сохраняем в pickle с разбивкой по 2 строки на файл\n",
    "save_table(table, \"example.pkl\", max_rows=2)\n",
    "# Загружаем из двух pickle-файлов, образовавшихся в результате\n",
    "loaded_split_pkl = load_table(\"example_1.pkl\", \"example_3.pkl\")\n",
    "print(\"Загружено из разбитых pickle:\")\n",
    "print_table(loaded_split_pkl)"
   ]
  },
  {
   "cell_type": "code",
   "execution_count": 1974,
   "id": "2d780920-60fb-4e4b-b5a1-a88affe9887a",
   "metadata": {},
   "outputs": [
    {
     "ename": "ValueError",
     "evalue": "Все файлы должны быть одного формата",
     "output_type": "error",
     "traceback": [
      "\u001b[0;31m---------------------------------------------------------------------------\u001b[0m",
      "\u001b[0;31mValueError\u001b[0m                                Traceback (most recent call last)",
      "Cell \u001b[0;32mIn[1974], line 1\u001b[0m\n\u001b[0;32m----> 1\u001b[0m loaded_split \u001b[38;5;241m=\u001b[39m load_table(\u001b[38;5;124m\"\u001b[39m\u001b[38;5;124mexample_split_1.csv\u001b[39m\u001b[38;5;124m\"\u001b[39m, \u001b[38;5;124m\"\u001b[39m\u001b[38;5;124mexample_split_1.txt\u001b[39m\u001b[38;5;124m\"\u001b[39m)\n",
      "Cell \u001b[0;32mIn[1949], line 28\u001b[0m, in \u001b[0;36mload_table\u001b[0;34m(fmt, detect_types, *filenames)\u001b[0m\n\u001b[1;32m     26\u001b[0m _, ext \u001b[38;5;241m=\u001b[39m os\u001b[38;5;241m.\u001b[39mpath\u001b[38;5;241m.\u001b[39msplitext(filename)\n\u001b[1;32m     27\u001b[0m \u001b[38;5;28;01mif\u001b[39;00m fmt \u001b[38;5;241m!=\u001b[39m  ext\u001b[38;5;241m.\u001b[39mlower():\n\u001b[0;32m---> 28\u001b[0m     \u001b[38;5;28;01mraise\u001b[39;00m \u001b[38;5;167;01mValueError\u001b[39;00m(\u001b[38;5;124m\"\u001b[39m\u001b[38;5;124mВсе файлы должны быть одного формата\u001b[39m\u001b[38;5;124m\"\u001b[39m)\n\u001b[1;32m     30\u001b[0m \u001b[38;5;66;03m# Загрузка данных из файлов\u001b[39;00m\n\u001b[1;32m     31\u001b[0m data \u001b[38;5;241m=\u001b[39m []\n",
      "\u001b[0;31mValueError\u001b[0m: Все файлы должны быть одного формата"
     ]
    }
   ],
   "source": [
    "loaded_split = load_table(\"example_split_1.csv\", \"example_split_1.txt\")  # Пример работы системы ошибок"
   ]
  },
  {
   "cell_type": "code",
   "execution_count": 1976,
   "id": "474d14c4-ef18-4e8d-8426-afa2d24d6651",
   "metadata": {},
   "outputs": [
    {
     "ename": "FileNotFoundError",
     "evalue": "Файла с таким названием не существует",
     "output_type": "error",
     "traceback": [
      "\u001b[0;31m---------------------------------------------------------------------------\u001b[0m",
      "\u001b[0;31mFileNotFoundError\u001b[0m                         Traceback (most recent call last)",
      "Cell \u001b[0;32mIn[1976], line 1\u001b[0m\n\u001b[0;32m----> 1\u001b[0m loaded_file \u001b[38;5;241m=\u001b[39m load_table(\u001b[38;5;124m'\u001b[39m\u001b[38;5;124mskfaokf\u001b[39m\u001b[38;5;124m'\u001b[39m)\n",
      "Cell \u001b[0;32mIn[1949], line 10\u001b[0m, in \u001b[0;36mload_table\u001b[0;34m(fmt, detect_types, *filenames)\u001b[0m\n\u001b[1;32m      8\u001b[0m \u001b[38;5;28;01mfor\u001b[39;00m filename \u001b[38;5;129;01min\u001b[39;00m filenames:\n\u001b[1;32m      9\u001b[0m     \u001b[38;5;28;01mif\u001b[39;00m \u001b[38;5;129;01mnot\u001b[39;00m os\u001b[38;5;241m.\u001b[39mpath\u001b[38;5;241m.\u001b[39misfile(filename):\n\u001b[0;32m---> 10\u001b[0m         \u001b[38;5;28;01mraise\u001b[39;00m \u001b[38;5;167;01mFileNotFoundError\u001b[39;00m(\u001b[38;5;124m\"\u001b[39m\u001b[38;5;124mФайла с таким названием не существует\u001b[39m\u001b[38;5;124m\"\u001b[39m)\n\u001b[1;32m     12\u001b[0m \u001b[38;5;66;03m# Определение формата по первому файлу, если не задан\u001b[39;00m\n\u001b[1;32m     13\u001b[0m \u001b[38;5;28;01mif\u001b[39;00m fmt \u001b[38;5;129;01mis\u001b[39;00m \u001b[38;5;28;01mNone\u001b[39;00m:\n",
      "\u001b[0;31mFileNotFoundError\u001b[0m: Файла с таким названием не существует"
     ]
    }
   ],
   "source": [
    "loaded_file = load_table('skfaokf')  # Пример работы системы ошибок"
   ]
  },
  {
   "cell_type": "code",
   "execution_count": 1978,
   "id": "9345cfd0-6abc-4cf9-98a4-a5344ae31b8f",
   "metadata": {},
   "outputs": [
    {
     "ename": "ValueError",
     "evalue": "Нет данных для сохранения",
     "output_type": "error",
     "traceback": [
      "\u001b[0;31m---------------------------------------------------------------------------\u001b[0m",
      "\u001b[0;31mValueError\u001b[0m                                Traceback (most recent call last)",
      "Cell \u001b[0;32mIn[1978], line 1\u001b[0m\n\u001b[0;32m----> 1\u001b[0m save_table([], \u001b[38;5;124m'\u001b[39m\u001b[38;5;124merr.txt\u001b[39m\u001b[38;5;124m'\u001b[39m)\n",
      "Cell \u001b[0;32mIn[1576], line 5\u001b[0m, in \u001b[0;36msave_table\u001b[0;34m(data, filename, fmt, max_rows)\u001b[0m\n\u001b[1;32m      1\u001b[0m \u001b[38;5;28;01mdef\u001b[39;00m \u001b[38;5;21msave_table\u001b[39m(data, filename, fmt\u001b[38;5;241m=\u001b[39m\u001b[38;5;28;01mNone\u001b[39;00m, max_rows\u001b[38;5;241m=\u001b[39m\u001b[38;5;28;01mNone\u001b[39;00m):\n\u001b[1;32m      2\u001b[0m     \n\u001b[1;32m      3\u001b[0m     \u001b[38;5;66;03m# Проверка наличия данных\u001b[39;00m\n\u001b[1;32m      4\u001b[0m     \u001b[38;5;28;01mif\u001b[39;00m \u001b[38;5;129;01mnot\u001b[39;00m data:\n\u001b[0;32m----> 5\u001b[0m         \u001b[38;5;28;01mraise\u001b[39;00m \u001b[38;5;167;01mValueError\u001b[39;00m(\u001b[38;5;124m\"\u001b[39m\u001b[38;5;124mНет данных для сохранения\u001b[39m\u001b[38;5;124m\"\u001b[39m)\n\u001b[1;32m      7\u001b[0m     \u001b[38;5;66;03m# Проверка указания файла для сохранения\u001b[39;00m\n\u001b[1;32m      8\u001b[0m     \u001b[38;5;28;01mif\u001b[39;00m \u001b[38;5;129;01mnot\u001b[39;00m filename \u001b[38;5;129;01mor\u001b[39;00m \u001b[38;5;129;01mnot\u001b[39;00m filename\u001b[38;5;241m.\u001b[39mstrip():\n",
      "\u001b[0;31mValueError\u001b[0m: Нет данных для сохранения"
     ]
    }
   ],
   "source": [
    "save_table([], 'err.txt')  # Пример работы системы ошибок"
   ]
  },
  {
   "cell_type": "code",
   "execution_count": 1980,
   "id": "f5fe40d2-ed8c-425a-8862-1bdd97edeba0",
   "metadata": {},
   "outputs": [
    {
     "ename": "ValueError",
     "evalue": "Не указан файл для сохранения",
     "output_type": "error",
     "traceback": [
      "\u001b[0;31m---------------------------------------------------------------------------\u001b[0m",
      "\u001b[0;31mValueError\u001b[0m                                Traceback (most recent call last)",
      "Cell \u001b[0;32mIn[1980], line 1\u001b[0m\n\u001b[0;32m----> 1\u001b[0m save_table(table, \u001b[38;5;124m'\u001b[39m\u001b[38;5;124m'\u001b[39m)\n",
      "Cell \u001b[0;32mIn[1576], line 9\u001b[0m, in \u001b[0;36msave_table\u001b[0;34m(data, filename, fmt, max_rows)\u001b[0m\n\u001b[1;32m      7\u001b[0m \u001b[38;5;66;03m# Проверка указания файла для сохранения\u001b[39;00m\n\u001b[1;32m      8\u001b[0m \u001b[38;5;28;01mif\u001b[39;00m \u001b[38;5;129;01mnot\u001b[39;00m filename \u001b[38;5;129;01mor\u001b[39;00m \u001b[38;5;129;01mnot\u001b[39;00m filename\u001b[38;5;241m.\u001b[39mstrip():\n\u001b[0;32m----> 9\u001b[0m     \u001b[38;5;28;01mraise\u001b[39;00m \u001b[38;5;167;01mValueError\u001b[39;00m(\u001b[38;5;124m\"\u001b[39m\u001b[38;5;124mНе указан файл для сохранения\u001b[39m\u001b[38;5;124m\"\u001b[39m)\n\u001b[1;32m     11\u001b[0m \u001b[38;5;66;03m# Проверка формата, если не задан\u001b[39;00m\n\u001b[1;32m     12\u001b[0m \u001b[38;5;28;01mif\u001b[39;00m fmt \u001b[38;5;129;01mis\u001b[39;00m \u001b[38;5;28;01mNone\u001b[39;00m:\n",
      "\u001b[0;31mValueError\u001b[0m: Не указан файл для сохранения"
     ]
    }
   ],
   "source": [
    "save_table(table, '')  # Пример работы системы ошибок"
   ]
  },
  {
   "cell_type": "code",
   "execution_count": 1982,
   "id": "9386775c-5fbd-41ed-9295-a1fbcf9f9365",
   "metadata": {},
   "outputs": [
    {
     "ename": "ValueError",
     "evalue": "Неизвестный формат файла. Используйте расширения .csv, .pkl или .txt",
     "output_type": "error",
     "traceback": [
      "\u001b[0;31m---------------------------------------------------------------------------\u001b[0m",
      "\u001b[0;31mValueError\u001b[0m                                Traceback (most recent call last)",
      "Cell \u001b[0;32mIn[1982], line 1\u001b[0m\n\u001b[0;32m----> 1\u001b[0m save_table(table, \u001b[38;5;124m'\u001b[39m\u001b[38;5;124merr.rx\u001b[39m\u001b[38;5;124m'\u001b[39m)\n",
      "Cell \u001b[0;32mIn[1576], line 17\u001b[0m, in \u001b[0;36msave_table\u001b[0;34m(data, filename, fmt, max_rows)\u001b[0m\n\u001b[1;32m     15\u001b[0m         fmt \u001b[38;5;241m=\u001b[39m ext\u001b[38;5;241m.\u001b[39mlower()\n\u001b[1;32m     16\u001b[0m     \u001b[38;5;28;01melse\u001b[39;00m:\n\u001b[0;32m---> 17\u001b[0m         \u001b[38;5;28;01mraise\u001b[39;00m \u001b[38;5;167;01mValueError\u001b[39;00m(\u001b[38;5;124m\"\u001b[39m\u001b[38;5;124mНеизвестный формат файла. Используйте расширения .csv, .pkl или .txt\u001b[39m\u001b[38;5;124m\"\u001b[39m)\n\u001b[1;32m     19\u001b[0m \u001b[38;5;66;03m# Проверка корректности ввода максимального количества строк в одном файле, если оно задано\u001b[39;00m\n\u001b[1;32m     20\u001b[0m \u001b[38;5;28;01mif\u001b[39;00m max_rows \u001b[38;5;129;01mis\u001b[39;00m \u001b[38;5;129;01mnot\u001b[39;00m \u001b[38;5;28;01mNone\u001b[39;00m \u001b[38;5;129;01mand\u001b[39;00m max_rows \u001b[38;5;241m<\u001b[39m\u001b[38;5;241m=\u001b[39m \u001b[38;5;241m0\u001b[39m:\n",
      "\u001b[0;31mValueError\u001b[0m: Неизвестный формат файла. Используйте расширения .csv, .pkl или .txt"
     ]
    }
   ],
   "source": [
    "save_table(table, 'err.rx')  # Пример работы системы ошибок"
   ]
  },
  {
   "cell_type": "code",
   "execution_count": 1984,
   "id": "22742a6f-684f-43a5-9000-2e06f4da79ed",
   "metadata": {},
   "outputs": [
    {
     "ename": "ValueError",
     "evalue": "Параметр max_rows = 0 может быть только положительным",
     "output_type": "error",
     "traceback": [
      "\u001b[0;31m---------------------------------------------------------------------------\u001b[0m",
      "\u001b[0;31mValueError\u001b[0m                                Traceback (most recent call last)",
      "Cell \u001b[0;32mIn[1984], line 1\u001b[0m\n\u001b[0;32m----> 1\u001b[0m save_table(table, \u001b[38;5;124m'\u001b[39m\u001b[38;5;124merr.txt\u001b[39m\u001b[38;5;124m'\u001b[39m, max_rows\u001b[38;5;241m=\u001b[39m\u001b[38;5;241m0\u001b[39m)\n",
      "Cell \u001b[0;32mIn[1576], line 21\u001b[0m, in \u001b[0;36msave_table\u001b[0;34m(data, filename, fmt, max_rows)\u001b[0m\n\u001b[1;32m     19\u001b[0m \u001b[38;5;66;03m# Проверка корректности ввода максимального количества строк в одном файле, если оно задано\u001b[39;00m\n\u001b[1;32m     20\u001b[0m \u001b[38;5;28;01mif\u001b[39;00m max_rows \u001b[38;5;129;01mis\u001b[39;00m \u001b[38;5;129;01mnot\u001b[39;00m \u001b[38;5;28;01mNone\u001b[39;00m \u001b[38;5;129;01mand\u001b[39;00m max_rows \u001b[38;5;241m<\u001b[39m\u001b[38;5;241m=\u001b[39m \u001b[38;5;241m0\u001b[39m:\n\u001b[0;32m---> 21\u001b[0m     \u001b[38;5;28;01mraise\u001b[39;00m \u001b[38;5;167;01mValueError\u001b[39;00m(\u001b[38;5;124mf\u001b[39m\u001b[38;5;124m\"\u001b[39m\u001b[38;5;124mПараметр max_rows = \u001b[39m\u001b[38;5;132;01m{\u001b[39;00mmax_rows\u001b[38;5;132;01m}\u001b[39;00m\u001b[38;5;124m может быть только положительным\u001b[39m\u001b[38;5;124m\"\u001b[39m)\n\u001b[1;32m     23\u001b[0m \u001b[38;5;66;03m# Запись данных в один файл\u001b[39;00m\n\u001b[1;32m     24\u001b[0m \u001b[38;5;28;01mif\u001b[39;00m max_rows \u001b[38;5;129;01mis\u001b[39;00m \u001b[38;5;28;01mNone\u001b[39;00m \u001b[38;5;129;01mor\u001b[39;00m max_rows \u001b[38;5;241m>\u001b[39m\u001b[38;5;241m=\u001b[39m \u001b[38;5;28mlen\u001b[39m(data):\n",
      "\u001b[0;31mValueError\u001b[0m: Параметр max_rows = 0 может быть только положительным"
     ]
    }
   ],
   "source": [
    "save_table(table, 'err.txt', max_rows=0)  # Пример работы системы ошибок"
   ]
  },
  {
   "cell_type": "markdown",
   "id": "ed9b7267-28df-4fe9-9bac-2c04acc1f8e9",
   "metadata": {},
   "source": [
    "# Функция get_rows_by_number()"
   ]
  },
  {
   "cell_type": "code",
   "execution_count": 1986,
   "id": "c778adfe-c99e-4fb7-999a-c5464776ecf4",
   "metadata": {},
   "outputs": [
    {
     "name": "stdout",
     "output_type": "stream",
     "text": [
      "Загружено из CSV:\n",
      "╒═════════╤═══════╤══════════╕\n",
      "│ Name    │   Age │ City     │\n",
      "╞═════════╪═══════╪══════════╡\n",
      "│ Alice   │    30 │ New York │\n",
      "├─────────┼───────┼──────────┤\n",
      "│ Bob     │    25 │ London   │\n",
      "├─────────┼───────┼──────────┤\n",
      "│ Charlie │    35 │ Paris    │\n",
      "├─────────┼───────┼──────────┤\n",
      "│ David   │    40 │ Berlin   │\n",
      "├─────────┼───────┼──────────┤\n",
      "│ Eve     │    28 │ Tokyo    │\n",
      "╘═════════╧═══════╧══════════╛\n",
      "Загружено из копированного CSV:\n",
      "╒═════════╤═══════╤════════╕\n",
      "│ Name    │   Age │ City   │\n",
      "╞═════════╪═══════╪════════╡\n",
      "│ Bob     │    25 │ London │\n",
      "├─────────┼───────┼────────┤\n",
      "│ Charlie │    35 │ Paris  │\n",
      "╘═════════╧═══════╧════════╛\n"
     ]
    }
   ],
   "source": [
    "get_rows_by_number(\"example.csv\", 2, 3, True)\n",
    "loaded_csv = load_table(\"example.csv\")\n",
    "print(\"Загружено из CSV:\")\n",
    "print_table(loaded_csv)\n",
    "loaded_copied_csv = load_table(\"example_copied.csv\")\n",
    "print(\"Загружено из копированного CSV:\")\n",
    "print_table(loaded_copied_csv)"
   ]
  },
  {
   "cell_type": "code",
   "execution_count": 1988,
   "id": "8ebc4f4c-fcd6-4eb4-a83f-41f1490507cf",
   "metadata": {},
   "outputs": [
    {
     "ename": "IndexError",
     "evalue": "Номер 'последней' сохраняемой строки не может превышать номер 'начальной' сохраняемой строки",
     "output_type": "error",
     "traceback": [
      "\u001b[0;31m---------------------------------------------------------------------------\u001b[0m",
      "\u001b[0;31mIndexError\u001b[0m                                Traceback (most recent call last)",
      "Cell \u001b[0;32mIn[1988], line 1\u001b[0m\n\u001b[0;32m----> 1\u001b[0m get_rows_by_number(\u001b[38;5;124m\"\u001b[39m\u001b[38;5;124mexample.csv\u001b[39m\u001b[38;5;124m\"\u001b[39m, \u001b[38;5;241m4\u001b[39m, \u001b[38;5;241m3\u001b[39m, \u001b[38;5;28;01mTrue\u001b[39;00m)\n",
      "Cell \u001b[0;32mIn[1131], line 26\u001b[0m, in \u001b[0;36mget_rows_by_number\u001b[0;34m(filename, start, stop, copy_table)\u001b[0m\n\u001b[1;32m     24\u001b[0m     \u001b[38;5;28;01mraise\u001b[39;00m \u001b[38;5;167;01mIndexError\u001b[39;00m(\u001b[38;5;124m\"\u001b[39m\u001b[38;5;124mНомер \u001b[39m\u001b[38;5;124m'\u001b[39m\u001b[38;5;124mпоследней\u001b[39m\u001b[38;5;124m'\u001b[39m\u001b[38;5;124m сохраняемой строки может быть только положительным\u001b[39m\u001b[38;5;124m\"\u001b[39m)\n\u001b[1;32m     25\u001b[0m \u001b[38;5;28;01melif\u001b[39;00m stop \u001b[38;5;241m<\u001b[39m start:\n\u001b[0;32m---> 26\u001b[0m     \u001b[38;5;28;01mraise\u001b[39;00m \u001b[38;5;167;01mIndexError\u001b[39;00m(\u001b[38;5;124m\"\u001b[39m\u001b[38;5;124mНомер \u001b[39m\u001b[38;5;124m'\u001b[39m\u001b[38;5;124mпоследней\u001b[39m\u001b[38;5;124m'\u001b[39m\u001b[38;5;124m сохраняемой строки не может превышать номер \u001b[39m\u001b[38;5;124m'\u001b[39m\u001b[38;5;124mначальной\u001b[39m\u001b[38;5;124m'\u001b[39m\u001b[38;5;124m сохраняемой строки\u001b[39m\u001b[38;5;124m\"\u001b[39m)\n\u001b[1;32m     27\u001b[0m \u001b[38;5;28;01melse\u001b[39;00m:\n\u001b[1;32m     28\u001b[0m     new_data\u001b[38;5;241m.\u001b[39mextend(data[start:(stop\u001b[38;5;241m+\u001b[39m\u001b[38;5;241m1\u001b[39m)])\n",
      "\u001b[0;31mIndexError\u001b[0m: Номер 'последней' сохраняемой строки не может превышать номер 'начальной' сохраняемой строки"
     ]
    }
   ],
   "source": [
    "get_rows_by_number(\"example.csv\", 4, 3, True)  # Пример работы системы ошибок"
   ]
  },
  {
   "cell_type": "code",
   "execution_count": 1990,
   "id": "2f4eb619-f9bc-4705-9b7c-dd2e7a42fea2",
   "metadata": {},
   "outputs": [
    {
     "ename": "IndexError",
     "evalue": "Номер 'последней' сохраняемой строки превышает количество строк в файле",
     "output_type": "error",
     "traceback": [
      "\u001b[0;31m---------------------------------------------------------------------------\u001b[0m",
      "\u001b[0;31mIndexError\u001b[0m                                Traceback (most recent call last)",
      "Cell \u001b[0;32mIn[1990], line 1\u001b[0m\n\u001b[0;32m----> 1\u001b[0m get_rows_by_number(\u001b[38;5;124m\"\u001b[39m\u001b[38;5;124mexample.csv\u001b[39m\u001b[38;5;124m\"\u001b[39m, \u001b[38;5;241m2\u001b[39m, \u001b[38;5;241m10\u001b[39m, \u001b[38;5;28;01mTrue\u001b[39;00m)\n",
      "Cell \u001b[0;32mIn[1131], line 22\u001b[0m, in \u001b[0;36mget_rows_by_number\u001b[0;34m(filename, start, stop, copy_table)\u001b[0m\n\u001b[1;32m     20\u001b[0m     new_data\u001b[38;5;241m.\u001b[39mappend(data[start])\n\u001b[1;32m     21\u001b[0m \u001b[38;5;28;01melif\u001b[39;00m stop \u001b[38;5;241m>\u001b[39m \u001b[38;5;28mlen\u001b[39m(data) \u001b[38;5;241m-\u001b[39m \u001b[38;5;241m1\u001b[39m:  \u001b[38;5;66;03m# Выситание заголовка \u001b[39;00m\n\u001b[0;32m---> 22\u001b[0m     \u001b[38;5;28;01mraise\u001b[39;00m \u001b[38;5;167;01mIndexError\u001b[39;00m(\u001b[38;5;124m\"\u001b[39m\u001b[38;5;124mНомер \u001b[39m\u001b[38;5;124m'\u001b[39m\u001b[38;5;124mпоследней\u001b[39m\u001b[38;5;124m'\u001b[39m\u001b[38;5;124m сохраняемой строки превышает количество строк в файле\u001b[39m\u001b[38;5;124m\"\u001b[39m)\n\u001b[1;32m     23\u001b[0m \u001b[38;5;28;01melif\u001b[39;00m stop \u001b[38;5;241m<\u001b[39m\u001b[38;5;241m=\u001b[39m \u001b[38;5;241m0\u001b[39m:\n\u001b[1;32m     24\u001b[0m     \u001b[38;5;28;01mraise\u001b[39;00m \u001b[38;5;167;01mIndexError\u001b[39;00m(\u001b[38;5;124m\"\u001b[39m\u001b[38;5;124mНомер \u001b[39m\u001b[38;5;124m'\u001b[39m\u001b[38;5;124mпоследней\u001b[39m\u001b[38;5;124m'\u001b[39m\u001b[38;5;124m сохраняемой строки может быть только положительным\u001b[39m\u001b[38;5;124m\"\u001b[39m)\n",
      "\u001b[0;31mIndexError\u001b[0m: Номер 'последней' сохраняемой строки превышает количество строк в файле"
     ]
    }
   ],
   "source": [
    "get_rows_by_number(\"example.csv\", 2, 10, True)  # Пример работы системы ошибок"
   ]
  },
  {
   "cell_type": "code",
   "execution_count": 1992,
   "id": "d37ffd1c-5a7f-4d41-9b19-e9e39b819481",
   "metadata": {},
   "outputs": [
    {
     "ename": "IndexError",
     "evalue": "Номер 'начальной' сохраняемой строки может быть только положительным",
     "output_type": "error",
     "traceback": [
      "\u001b[0;31m---------------------------------------------------------------------------\u001b[0m",
      "\u001b[0;31mIndexError\u001b[0m                                Traceback (most recent call last)",
      "Cell \u001b[0;32mIn[1992], line 1\u001b[0m\n\u001b[0;32m----> 1\u001b[0m get_rows_by_number(\u001b[38;5;124m\"\u001b[39m\u001b[38;5;124mexample.csv\u001b[39m\u001b[38;5;124m\"\u001b[39m, \u001b[38;5;241m0\u001b[39m, \u001b[38;5;241m3\u001b[39m, \u001b[38;5;28;01mTrue\u001b[39;00m)\n",
      "Cell \u001b[0;32mIn[1131], line 16\u001b[0m, in \u001b[0;36mget_rows_by_number\u001b[0;34m(filename, start, stop, copy_table)\u001b[0m\n\u001b[1;32m     14\u001b[0m     \u001b[38;5;28;01mraise\u001b[39;00m \u001b[38;5;167;01mIndexError\u001b[39;00m(\u001b[38;5;124m\"\u001b[39m\u001b[38;5;124mНомер \u001b[39m\u001b[38;5;124m'\u001b[39m\u001b[38;5;124mначальной\u001b[39m\u001b[38;5;124m'\u001b[39m\u001b[38;5;124m сохраняемой строки превышает количество строк в файле\u001b[39m\u001b[38;5;124m\"\u001b[39m)\n\u001b[1;32m     15\u001b[0m \u001b[38;5;28;01mif\u001b[39;00m start \u001b[38;5;241m<\u001b[39m\u001b[38;5;241m=\u001b[39m \u001b[38;5;241m0\u001b[39m:\n\u001b[0;32m---> 16\u001b[0m     \u001b[38;5;28;01mraise\u001b[39;00m \u001b[38;5;167;01mIndexError\u001b[39;00m(\u001b[38;5;124m\"\u001b[39m\u001b[38;5;124mНомер \u001b[39m\u001b[38;5;124m'\u001b[39m\u001b[38;5;124mначальной\u001b[39m\u001b[38;5;124m'\u001b[39m\u001b[38;5;124m сохраняемой строки может быть только положительным\u001b[39m\u001b[38;5;124m\"\u001b[39m)\n\u001b[1;32m     18\u001b[0m \u001b[38;5;66;03m# Проверка корректности \"конечного\" индекса\u001b[39;00m\n\u001b[1;32m     19\u001b[0m \u001b[38;5;28;01mif\u001b[39;00m stop \u001b[38;5;129;01mis\u001b[39;00m \u001b[38;5;28;01mNone\u001b[39;00m \u001b[38;5;129;01mor\u001b[39;00m start \u001b[38;5;241m==\u001b[39m stop:\n",
      "\u001b[0;31mIndexError\u001b[0m: Номер 'начальной' сохраняемой строки может быть только положительным"
     ]
    }
   ],
   "source": [
    "get_rows_by_number(\"example.csv\", 0, 3, True)  # Пример работы системы ошибок"
   ]
  },
  {
   "cell_type": "code",
   "execution_count": 1994,
   "id": "7f979bd3-c620-4f07-8052-2cc669a0b4ce",
   "metadata": {},
   "outputs": [
    {
     "ename": "IndexError",
     "evalue": "Номер 'последней' сохраняемой строки может быть только положительным",
     "output_type": "error",
     "traceback": [
      "\u001b[0;31m---------------------------------------------------------------------------\u001b[0m",
      "\u001b[0;31mIndexError\u001b[0m                                Traceback (most recent call last)",
      "Cell \u001b[0;32mIn[1994], line 1\u001b[0m\n\u001b[0;32m----> 1\u001b[0m get_rows_by_number(\u001b[38;5;124m\"\u001b[39m\u001b[38;5;124mexample.csv\u001b[39m\u001b[38;5;124m\"\u001b[39m, \u001b[38;5;241m2\u001b[39m, \u001b[38;5;241m-\u001b[39m\u001b[38;5;241m1\u001b[39m, \u001b[38;5;28;01mTrue\u001b[39;00m)\n",
      "Cell \u001b[0;32mIn[1131], line 24\u001b[0m, in \u001b[0;36mget_rows_by_number\u001b[0;34m(filename, start, stop, copy_table)\u001b[0m\n\u001b[1;32m     22\u001b[0m     \u001b[38;5;28;01mraise\u001b[39;00m \u001b[38;5;167;01mIndexError\u001b[39;00m(\u001b[38;5;124m\"\u001b[39m\u001b[38;5;124mНомер \u001b[39m\u001b[38;5;124m'\u001b[39m\u001b[38;5;124mпоследней\u001b[39m\u001b[38;5;124m'\u001b[39m\u001b[38;5;124m сохраняемой строки превышает количество строк в файле\u001b[39m\u001b[38;5;124m\"\u001b[39m)\n\u001b[1;32m     23\u001b[0m \u001b[38;5;28;01melif\u001b[39;00m stop \u001b[38;5;241m<\u001b[39m\u001b[38;5;241m=\u001b[39m \u001b[38;5;241m0\u001b[39m:\n\u001b[0;32m---> 24\u001b[0m     \u001b[38;5;28;01mraise\u001b[39;00m \u001b[38;5;167;01mIndexError\u001b[39;00m(\u001b[38;5;124m\"\u001b[39m\u001b[38;5;124mНомер \u001b[39m\u001b[38;5;124m'\u001b[39m\u001b[38;5;124mпоследней\u001b[39m\u001b[38;5;124m'\u001b[39m\u001b[38;5;124m сохраняемой строки может быть только положительным\u001b[39m\u001b[38;5;124m\"\u001b[39m)\n\u001b[1;32m     25\u001b[0m \u001b[38;5;28;01melif\u001b[39;00m stop \u001b[38;5;241m<\u001b[39m start:\n\u001b[1;32m     26\u001b[0m     \u001b[38;5;28;01mraise\u001b[39;00m \u001b[38;5;167;01mIndexError\u001b[39;00m(\u001b[38;5;124m\"\u001b[39m\u001b[38;5;124mНомер \u001b[39m\u001b[38;5;124m'\u001b[39m\u001b[38;5;124mпоследней\u001b[39m\u001b[38;5;124m'\u001b[39m\u001b[38;5;124m сохраняемой строки не может превышать номер \u001b[39m\u001b[38;5;124m'\u001b[39m\u001b[38;5;124mначальной\u001b[39m\u001b[38;5;124m'\u001b[39m\u001b[38;5;124m сохраняемой строки\u001b[39m\u001b[38;5;124m\"\u001b[39m)\n",
      "\u001b[0;31mIndexError\u001b[0m: Номер 'последней' сохраняемой строки может быть только положительным"
     ]
    }
   ],
   "source": [
    "get_rows_by_number(\"example.csv\", 2, -1, True)  # Пример работы системы ошибок"
   ]
  },
  {
   "cell_type": "markdown",
   "id": "7d7cdded-9099-4ef6-aa19-2cd360a10a97",
   "metadata": {},
   "source": [
    "# Функция get_rows_by_index()"
   ]
  },
  {
   "cell_type": "code",
   "execution_count": 1996,
   "id": "0a02f51e-9d59-4157-b097-6992f8db2a83",
   "metadata": {},
   "outputs": [
    {
     "name": "stdout",
     "output_type": "stream",
     "text": [
      "Загружено из CSV:\n",
      "╒═════════╤═══════╤══════════╕\n",
      "│ Name    │   Age │ City     │\n",
      "╞═════════╪═══════╪══════════╡\n",
      "│ Alice   │    30 │ New York │\n",
      "├─────────┼───────┼──────────┤\n",
      "│ Bob     │    25 │ London   │\n",
      "├─────────┼───────┼──────────┤\n",
      "│ Charlie │    35 │ Paris    │\n",
      "├─────────┼───────┼──────────┤\n",
      "│ David   │    40 │ Berlin   │\n",
      "├─────────┼───────┼──────────┤\n",
      "│ Eve     │    28 │ Tokyo    │\n",
      "╘═════════╧═══════╧══════════╛\n",
      "Загружено из копированного CSV:\n",
      "╒══════╤═════════╤═══════╤══════════╕\n",
      "│   ID │ Name    │   Age │ City     │\n",
      "╞══════╪═════════╪═══════╪══════════╡\n",
      "│    1 │ Alice   │    30 │ New York │\n",
      "├──────┼─────────┼───────┼──────────┤\n",
      "│    2 │ Bob     │    25 │ London   │\n",
      "├──────┼─────────┼───────┼──────────┤\n",
      "│    3 │ Charlie │    35 │ Paris    │\n",
      "├──────┼─────────┼───────┼──────────┤\n",
      "│    5 │ Eve     │    28 │ Tokyo    │\n",
      "╘══════╧═════════╧═══════╧══════════╛\n"
     ]
    }
   ],
   "source": [
    "get_rows_by_index(\"example.csv\", (3, 5, 3, 2, 1), True)\n",
    "loaded_csv = load_table(\"example.csv\")\n",
    "print(\"Загружено из CSV:\")\n",
    "print_table(loaded_csv)\n",
    "loaded_copied_csv = load_table(\"example_copied.csv\")\n",
    "print(\"Загружено из копированного CSV:\")\n",
    "print_table(loaded_copied_csv)"
   ]
  },
  {
   "cell_type": "code",
   "execution_count": 1998,
   "id": "5c10a934-f634-4ed0-ac36-28451d84f66b",
   "metadata": {},
   "outputs": [
    {
     "ename": "IndexError",
     "evalue": "Номер строки может быть только положительным",
     "output_type": "error",
     "traceback": [
      "\u001b[0;31m---------------------------------------------------------------------------\u001b[0m",
      "\u001b[0;31mIndexError\u001b[0m                                Traceback (most recent call last)",
      "Cell \u001b[0;32mIn[1998], line 1\u001b[0m\n\u001b[0;32m----> 1\u001b[0m get_rows_by_index(\u001b[38;5;124m\"\u001b[39m\u001b[38;5;124mexample.csv\u001b[39m\u001b[38;5;124m\"\u001b[39m, (\u001b[38;5;241m3\u001b[39m, \u001b[38;5;241m5\u001b[39m, \u001b[38;5;241m3\u001b[39m, \u001b[38;5;241m2\u001b[39m, \u001b[38;5;241m-\u001b[39m\u001b[38;5;241m1\u001b[39m), \u001b[38;5;28;01mTrue\u001b[39;00m)\n",
      "Cell \u001b[0;32mIn[1133], line 36\u001b[0m, in \u001b[0;36mget_rows_by_index\u001b[0;34m(filename, indices, copy_table)\u001b[0m\n\u001b[1;32m     34\u001b[0m     \u001b[38;5;28;01mraise\u001b[39;00m \u001b[38;5;167;01mIndexError\u001b[39;00m(\u001b[38;5;124m\"\u001b[39m\u001b[38;5;124mНомер строки превышает количество строк в файле\u001b[39m\u001b[38;5;124m\"\u001b[39m)\n\u001b[1;32m     35\u001b[0m \u001b[38;5;28;01melif\u001b[39;00m idx \u001b[38;5;241m<\u001b[39m\u001b[38;5;241m=\u001b[39m \u001b[38;5;241m0\u001b[39m:\n\u001b[0;32m---> 36\u001b[0m     \u001b[38;5;28;01mraise\u001b[39;00m \u001b[38;5;167;01mIndexError\u001b[39;00m(\u001b[38;5;124m\"\u001b[39m\u001b[38;5;124mНомер строки может быть только положительным\u001b[39m\u001b[38;5;124m\"\u001b[39m)\n\u001b[1;32m     37\u001b[0m \u001b[38;5;28;01melse\u001b[39;00m:\n\u001b[1;32m     38\u001b[0m     new_line \u001b[38;5;241m=\u001b[39m [idx]\n",
      "\u001b[0;31mIndexError\u001b[0m: Номер строки может быть только положительным"
     ]
    }
   ],
   "source": [
    "get_rows_by_index(\"example.csv\", (3, 5, 3, 2, -1), True)  # Пример работы системы ошибок"
   ]
  },
  {
   "cell_type": "code",
   "execution_count": 2000,
   "id": "b94fb5cb-3261-4035-9bef-c02a8ace624e",
   "metadata": {},
   "outputs": [
    {
     "ename": "IndexError",
     "evalue": "Номер строки может быть только положительным",
     "output_type": "error",
     "traceback": [
      "\u001b[0;31m---------------------------------------------------------------------------\u001b[0m",
      "\u001b[0;31mIndexError\u001b[0m                                Traceback (most recent call last)",
      "Cell \u001b[0;32mIn[2000], line 1\u001b[0m\n\u001b[0;32m----> 1\u001b[0m get_rows_by_index(\u001b[38;5;124m\"\u001b[39m\u001b[38;5;124mexample.csv\u001b[39m\u001b[38;5;124m\"\u001b[39m, (\u001b[38;5;241m0\u001b[39m), \u001b[38;5;28;01mTrue\u001b[39;00m)\n",
      "Cell \u001b[0;32mIn[1133], line 25\u001b[0m, in \u001b[0;36mget_rows_by_index\u001b[0;34m(filename, indices, copy_table)\u001b[0m\n\u001b[1;32m     23\u001b[0m     \u001b[38;5;28;01mraise\u001b[39;00m \u001b[38;5;167;01mIndexError\u001b[39;00m(\u001b[38;5;124m\"\u001b[39m\u001b[38;5;124mНомер строки превышает количество строк в файле\u001b[39m\u001b[38;5;124m\"\u001b[39m)\n\u001b[1;32m     24\u001b[0m \u001b[38;5;28;01melif\u001b[39;00m idx \u001b[38;5;241m<\u001b[39m\u001b[38;5;241m=\u001b[39m \u001b[38;5;241m0\u001b[39m:\n\u001b[0;32m---> 25\u001b[0m     \u001b[38;5;28;01mraise\u001b[39;00m \u001b[38;5;167;01mIndexError\u001b[39;00m(\u001b[38;5;124m\"\u001b[39m\u001b[38;5;124mНомер строки может быть только положительным\u001b[39m\u001b[38;5;124m\"\u001b[39m)\n\u001b[1;32m     26\u001b[0m \u001b[38;5;28;01melse\u001b[39;00m:\n\u001b[1;32m     27\u001b[0m     new_line \u001b[38;5;241m=\u001b[39m [idx]\n",
      "\u001b[0;31mIndexError\u001b[0m: Номер строки может быть только положительным"
     ]
    }
   ],
   "source": [
    "get_rows_by_index(\"example.csv\", (0), True)  # Пример работы системы ошибок"
   ]
  },
  {
   "cell_type": "code",
   "execution_count": 2002,
   "id": "3bb5dbd0-ec04-4653-a772-a89cf57f52c4",
   "metadata": {},
   "outputs": [
    {
     "ename": "ValueError",
     "evalue": "Индексы не введены",
     "output_type": "error",
     "traceback": [
      "\u001b[0;31m---------------------------------------------------------------------------\u001b[0m",
      "\u001b[0;31mValueError\u001b[0m                                Traceback (most recent call last)",
      "Cell \u001b[0;32mIn[2002], line 1\u001b[0m\n\u001b[0;32m----> 1\u001b[0m get_rows_by_index(\u001b[38;5;124m\"\u001b[39m\u001b[38;5;124mexample.csv\u001b[39m\u001b[38;5;124m\"\u001b[39m, (), \u001b[38;5;28;01mTrue\u001b[39;00m)\n",
      "Cell \u001b[0;32mIn[1133], line 4\u001b[0m, in \u001b[0;36mget_rows_by_index\u001b[0;34m(filename, indices, copy_table)\u001b[0m\n\u001b[1;32m      1\u001b[0m \u001b[38;5;28;01mdef\u001b[39;00m \u001b[38;5;21mget_rows_by_index\u001b[39m(filename, indices, copy_table\u001b[38;5;241m=\u001b[39m\u001b[38;5;28;01mFalse\u001b[39;00m):\n\u001b[1;32m      3\u001b[0m     \u001b[38;5;28;01mif\u001b[39;00m indices \u001b[38;5;241m==\u001b[39m ():\n\u001b[0;32m----> 4\u001b[0m         \u001b[38;5;28;01mraise\u001b[39;00m \u001b[38;5;167;01mValueError\u001b[39;00m(\u001b[38;5;124m\"\u001b[39m\u001b[38;5;124mИндексы не введены\u001b[39m\u001b[38;5;124m\"\u001b[39m)\n\u001b[1;32m      6\u001b[0m     \u001b[38;5;66;03m# Импорт данных из файла\u001b[39;00m\n\u001b[1;32m      7\u001b[0m     data \u001b[38;5;241m=\u001b[39m load_table(filename)\n",
      "\u001b[0;31mValueError\u001b[0m: Индексы не введены"
     ]
    }
   ],
   "source": [
    "get_rows_by_index(\"example.csv\", (), True)  # Пример работы системы ошибок"
   ]
  },
  {
   "cell_type": "markdown",
   "id": "0e87ce1b-1ade-4a68-aed0-d00f7a382370",
   "metadata": {},
   "source": [
    "# Функция get_column_types() и set_column_types()"
   ]
  },
  {
   "cell_type": "code",
   "execution_count": 2004,
   "id": "6c3e1699-c7b6-4430-acab-aec85fe836c6",
   "metadata": {},
   "outputs": [
    {
     "name": "stdout",
     "output_type": "stream",
     "text": [
      "Загружены типы столбцов с их заголовками из файла example.csv: {'Name': 'str', 'Age': 'int', 'City': 'str'}\n"
     ]
    }
   ],
   "source": [
    "print(f\"Загружены типы столбцов с их заголовками из файла {\"example.csv\"}:\", get_column_types(\"example.csv\", by_number=False))"
   ]
  },
  {
   "cell_type": "code",
   "execution_count": 2006,
   "id": "83597ff8-d9a6-4223-9d3e-cc1552ad697d",
   "metadata": {},
   "outputs": [
    {
     "name": "stdout",
     "output_type": "stream",
     "text": [
      "Загружены типы столбцов с их номерами из файла example.csv: {1: 'str', 2: 'int', 3: 'str'}\n"
     ]
    }
   ],
   "source": [
    "print(f\"Загружены типы столбцов с их номерами из файла {\"example.csv\"}:\", get_column_types(\"example.csv\"))"
   ]
  },
  {
   "cell_type": "code",
   "execution_count": 2008,
   "id": "b9ba891c-a805-45cb-9c1f-4f86de6aad2c",
   "metadata": {},
   "outputs": [
    {
     "name": "stdout",
     "output_type": "stream",
     "text": [
      "{'Name': 'str', 'Age': 'float', 'City': 'str'}\n",
      "{'Name': 'str', 'Age': 'float', 'City': 'str'}\n"
     ]
    },
    {
     "data": {
      "text/plain": [
       "[['Name', 'Age', 'City'],\n",
       " ['Alice', '30.0', 'New York'],\n",
       " ['Bob', '25.0', 'London'],\n",
       " ['Charlie', '35.0', 'Paris'],\n",
       " ['David', '40.0', 'Berlin'],\n",
       " ['Eve', '28.0', 'Tokyo']]"
      ]
     },
     "execution_count": 2008,
     "metadata": {},
     "output_type": "execute_result"
    }
   ],
   "source": [
    "table_data = set_column_types('example.txt', {1: 'str', 2: 'float'}, by_number=True)  # Присвоение нового типа значениям в столбцах \n",
    "save_table(table_data, 'file.csv')  # Сохранение данных после присвоения нового типа значениям\n",
    "print(get_column_types('file.csv', by_number=False))  # Как видно, в файле тип значений сохраняется\n",
    "new_table = load_table('file.csv')  \n",
    "save_table(new_table, 'file1.txt')\n",
    "print(get_column_types('file1.txt', by_number=False)) # После пересохранения данных в новый формат тип данных также сохраняется\n",
    "new_table"
   ]
  },
  {
   "cell_type": "code",
   "execution_count": 2010,
   "id": "b238b975-c453-484b-ba81-cb2421b41c3d",
   "metadata": {},
   "outputs": [
    {
     "ename": "ValueError",
     "evalue": "Словарь введён некорректно",
     "output_type": "error",
     "traceback": [
      "\u001b[0;31m---------------------------------------------------------------------------\u001b[0m",
      "\u001b[0;31mValueError\u001b[0m                                Traceback (most recent call last)",
      "Cell \u001b[0;32mIn[2010], line 1\u001b[0m\n\u001b[0;32m----> 1\u001b[0m table_data \u001b[38;5;241m=\u001b[39m set_column_types(\u001b[38;5;124m'\u001b[39m\u001b[38;5;124mexample.txt\u001b[39m\u001b[38;5;124m'\u001b[39m, {\u001b[38;5;124m'\u001b[39m\u001b[38;5;124mname\u001b[39m\u001b[38;5;124m'\u001b[39m: \u001b[38;5;124m'\u001b[39m\u001b[38;5;124mstr\u001b[39m\u001b[38;5;124m'\u001b[39m, \u001b[38;5;241m2\u001b[39m: \u001b[38;5;124m'\u001b[39m\u001b[38;5;124mfloat\u001b[39m\u001b[38;5;124m'\u001b[39m}, by_number\u001b[38;5;241m=\u001b[39m\u001b[38;5;28;01mTrue\u001b[39;00m)\n",
      "Cell \u001b[0;32mIn[1957], line 31\u001b[0m, in \u001b[0;36mset_column_types\u001b[0;34m(filename, types_dict, by_number)\u001b[0m\n\u001b[1;32m     28\u001b[0m \u001b[38;5;28;01mfor\u001b[39;00m col_num, col_type \u001b[38;5;129;01min\u001b[39;00m types_dict\u001b[38;5;241m.\u001b[39mitems():\n\u001b[1;32m     29\u001b[0m     \u001b[38;5;66;03m# Проверка введённого словаря на крректность\u001b[39;00m\n\u001b[1;32m     30\u001b[0m     \u001b[38;5;28;01mif\u001b[39;00m \u001b[38;5;129;01mnot\u001b[39;00m \u001b[38;5;28misinstance\u001b[39m(col_num, \u001b[38;5;28mint\u001b[39m):\n\u001b[0;32m---> 31\u001b[0m         \u001b[38;5;28;01mraise\u001b[39;00m \u001b[38;5;167;01mValueError\u001b[39;00m(\u001b[38;5;124m\"\u001b[39m\u001b[38;5;124mСловарь введён некорректно\u001b[39m\u001b[38;5;124m\"\u001b[39m)\n\u001b[1;32m     32\u001b[0m     real_index \u001b[38;5;241m=\u001b[39m col_num \u001b[38;5;241m-\u001b[39m \u001b[38;5;241m1\u001b[39m\n\u001b[1;32m     33\u001b[0m     \u001b[38;5;66;03m# Проверка индексов столбцов на корректность\u001b[39;00m\n",
      "\u001b[0;31mValueError\u001b[0m: Словарь введён некорректно"
     ]
    }
   ],
   "source": [
    "table_data = set_column_types('example.txt', {'name': 'str', 2: 'float'}, by_number=True)  # Пример работы системы ошибок"
   ]
  },
  {
   "cell_type": "code",
   "execution_count": 2012,
   "id": "849ddab6-9b8d-4a82-8bde-4cac3b34a217",
   "metadata": {},
   "outputs": [
    {
     "ename": "ValueError",
     "evalue": "Словарь введён некорректно",
     "output_type": "error",
     "traceback": [
      "\u001b[0;31m---------------------------------------------------------------------------\u001b[0m",
      "\u001b[0;31mValueError\u001b[0m                                Traceback (most recent call last)",
      "Cell \u001b[0;32mIn[2012], line 1\u001b[0m\n\u001b[0;32m----> 1\u001b[0m table_data \u001b[38;5;241m=\u001b[39m set_column_types(\u001b[38;5;124m'\u001b[39m\u001b[38;5;124mexample.txt\u001b[39m\u001b[38;5;124m'\u001b[39m, {\u001b[38;5;241m1\u001b[39m: \u001b[38;5;124m'\u001b[39m\u001b[38;5;124mstr\u001b[39m\u001b[38;5;124m'\u001b[39m, \u001b[38;5;241m2\u001b[39m: \u001b[38;5;124m'\u001b[39m\u001b[38;5;124mfloat\u001b[39m\u001b[38;5;124m'\u001b[39m}, by_number\u001b[38;5;241m=\u001b[39m\u001b[38;5;28;01mFalse\u001b[39;00m)\n",
      "Cell \u001b[0;32mIn[1957], line 41\u001b[0m, in \u001b[0;36mset_column_types\u001b[0;34m(filename, types_dict, by_number)\u001b[0m\n\u001b[1;32m     38\u001b[0m \u001b[38;5;28;01mfor\u001b[39;00m col_name, col_type \u001b[38;5;129;01min\u001b[39;00m types_dict\u001b[38;5;241m.\u001b[39mitems():\n\u001b[1;32m     39\u001b[0m     \u001b[38;5;66;03m# Проверка введённого словаря на крректность\u001b[39;00m\n\u001b[1;32m     40\u001b[0m     \u001b[38;5;28;01mif\u001b[39;00m \u001b[38;5;28misinstance\u001b[39m(col_name, \u001b[38;5;28mint\u001b[39m):\n\u001b[0;32m---> 41\u001b[0m         \u001b[38;5;28;01mraise\u001b[39;00m \u001b[38;5;167;01mValueError\u001b[39;00m(\u001b[38;5;124m\"\u001b[39m\u001b[38;5;124mСловарь введён некорректно\u001b[39m\u001b[38;5;124m\"\u001b[39m)\n\u001b[1;32m     42\u001b[0m     \u001b[38;5;66;03m# Провека значений столбцов на корректность\u001b[39;00m\n\u001b[1;32m     43\u001b[0m     \u001b[38;5;28;01mif\u001b[39;00m col_name \u001b[38;5;129;01mnot\u001b[39;00m \u001b[38;5;129;01min\u001b[39;00m header:\n",
      "\u001b[0;31mValueError\u001b[0m: Словарь введён некорректно"
     ]
    }
   ],
   "source": [
    "table_data = set_column_types('example.txt', {1: 'str', 2: 'float'}, by_number=False)  # Пример работы системы ошибок"
   ]
  },
  {
   "cell_type": "code",
   "execution_count": 2014,
   "id": "6d5debd0-f7dd-4825-ad7f-ebd162d6fc69",
   "metadata": {},
   "outputs": [
    {
     "ename": "ValueError",
     "evalue": "Значений типов столбцов не введены",
     "output_type": "error",
     "traceback": [
      "\u001b[0;31m---------------------------------------------------------------------------\u001b[0m",
      "\u001b[0;31mValueError\u001b[0m                                Traceback (most recent call last)",
      "Cell \u001b[0;32mIn[2014], line 1\u001b[0m\n\u001b[0;32m----> 1\u001b[0m table_data \u001b[38;5;241m=\u001b[39m set_column_types(\u001b[38;5;124m'\u001b[39m\u001b[38;5;124mexample.txt\u001b[39m\u001b[38;5;124m'\u001b[39m, {}, by_number\u001b[38;5;241m=\u001b[39m\u001b[38;5;28;01mFalse\u001b[39;00m)\n",
      "Cell \u001b[0;32mIn[1957], line 19\u001b[0m, in \u001b[0;36mset_column_types\u001b[0;34m(filename, types_dict, by_number)\u001b[0m\n\u001b[1;32m     17\u001b[0m \u001b[38;5;66;03m# Проверка наличия переданноый значений типов столбцов\u001b[39;00m\n\u001b[1;32m     18\u001b[0m \u001b[38;5;28;01mif\u001b[39;00m \u001b[38;5;129;01mnot\u001b[39;00m types_dict:\n\u001b[0;32m---> 19\u001b[0m     \u001b[38;5;28;01mraise\u001b[39;00m \u001b[38;5;167;01mValueError\u001b[39;00m(\u001b[38;5;124m\"\u001b[39m\u001b[38;5;124mЗначений типов столбцов не введены\u001b[39m\u001b[38;5;124m\"\u001b[39m)\n\u001b[1;32m     21\u001b[0m header \u001b[38;5;241m=\u001b[39m data[\u001b[38;5;241m0\u001b[39m]  \u001b[38;5;66;03m# заголовок\u001b[39;00m\n\u001b[1;32m     22\u001b[0m column_count \u001b[38;5;241m=\u001b[39m \u001b[38;5;28mlen\u001b[39m(header)  \u001b[38;5;66;03m# Количество столбцов в файле\u001b[39;00m\n",
      "\u001b[0;31mValueError\u001b[0m: Значений типов столбцов не введены"
     ]
    }
   ],
   "source": [
    "table_data = set_column_types('example.txt', {}, by_number=False)  # Пример работы системы ошибок"
   ]
  },
  {
   "cell_type": "code",
   "execution_count": 2026,
   "id": "6322bd0b-7933-4129-bf4f-65a407e47182",
   "metadata": {},
   "outputs": [
    {
     "ename": "ValueError",
     "evalue": "Не удалось привести значение 'Alice' в столбце 'Name' к типу float",
     "output_type": "error",
     "traceback": [
      "\u001b[0;31m---------------------------------------------------------------------------\u001b[0m",
      "\u001b[0;31mValueError\u001b[0m                                Traceback (most recent call last)",
      "Cell \u001b[0;32mIn[1957], line 68\u001b[0m, in \u001b[0;36mset_column_types\u001b[0;34m(filename, types_dict, by_number)\u001b[0m\n\u001b[1;32m     67\u001b[0m \u001b[38;5;28;01mtry\u001b[39;00m:\n\u001b[0;32m---> 68\u001b[0m     data[line_idx][col_idx] \u001b[38;5;241m=\u001b[39m cast_value(original_value, current_type)\n\u001b[1;32m     69\u001b[0m \u001b[38;5;28;01mexcept\u001b[39;00m \u001b[38;5;167;01mValueError\u001b[39;00m:\n",
      "Cell \u001b[0;32mIn[1957], line 53\u001b[0m, in \u001b[0;36mset_column_types.<locals>.cast_value\u001b[0;34m(value, to_type)\u001b[0m\n\u001b[1;32m     52\u001b[0m \u001b[38;5;28;01melif\u001b[39;00m to_type \u001b[38;5;241m==\u001b[39m \u001b[38;5;124m'\u001b[39m\u001b[38;5;124mfloat\u001b[39m\u001b[38;5;124m'\u001b[39m:\n\u001b[0;32m---> 53\u001b[0m     \u001b[38;5;28;01mreturn\u001b[39;00m \u001b[38;5;28mfloat\u001b[39m(value)\n\u001b[1;32m     54\u001b[0m \u001b[38;5;28;01melif\u001b[39;00m to_type \u001b[38;5;241m==\u001b[39m \u001b[38;5;124m'\u001b[39m\u001b[38;5;124mbool\u001b[39m\u001b[38;5;124m'\u001b[39m:\n",
      "\u001b[0;31mValueError\u001b[0m: could not convert string to float: 'Alice'",
      "\nDuring handling of the above exception, another exception occurred:\n",
      "\u001b[0;31mValueError\u001b[0m                                Traceback (most recent call last)",
      "Cell \u001b[0;32mIn[2026], line 1\u001b[0m\n\u001b[0;32m----> 1\u001b[0m set_column_types(\u001b[38;5;124m'\u001b[39m\u001b[38;5;124mexample.txt\u001b[39m\u001b[38;5;124m'\u001b[39m, {\u001b[38;5;241m1\u001b[39m: \u001b[38;5;124m'\u001b[39m\u001b[38;5;124mfloat\u001b[39m\u001b[38;5;124m'\u001b[39m, \u001b[38;5;241m2\u001b[39m: \u001b[38;5;124m'\u001b[39m\u001b[38;5;124mfloat\u001b[39m\u001b[38;5;124m'\u001b[39m}, by_number\u001b[38;5;241m=\u001b[39m\u001b[38;5;28;01mTrue\u001b[39;00m)\n",
      "Cell \u001b[0;32mIn[1957], line 70\u001b[0m, in \u001b[0;36mset_column_types\u001b[0;34m(filename, types_dict, by_number)\u001b[0m\n\u001b[1;32m     68\u001b[0m             data[line_idx][col_idx] \u001b[38;5;241m=\u001b[39m cast_value(original_value, current_type)\n\u001b[1;32m     69\u001b[0m         \u001b[38;5;28;01mexcept\u001b[39;00m \u001b[38;5;167;01mValueError\u001b[39;00m:\n\u001b[0;32m---> 70\u001b[0m             \u001b[38;5;28;01mraise\u001b[39;00m \u001b[38;5;167;01mValueError\u001b[39;00m(\n\u001b[1;32m     71\u001b[0m                 \u001b[38;5;124mf\u001b[39m\u001b[38;5;124m\"\u001b[39m\u001b[38;5;124mНе удалось привести значение \u001b[39m\u001b[38;5;124m'\u001b[39m\u001b[38;5;132;01m{\u001b[39;00moriginal_value\u001b[38;5;132;01m}\u001b[39;00m\u001b[38;5;124m'\u001b[39m\u001b[38;5;124m в столбце \u001b[39m\u001b[38;5;124m'\u001b[39m\u001b[38;5;132;01m{\u001b[39;00mheader[col_idx]\u001b[38;5;132;01m}\u001b[39;00m\u001b[38;5;124m'\u001b[39m\u001b[38;5;124m к типу \u001b[39m\u001b[38;5;132;01m{\u001b[39;00mcurrent_type\u001b[38;5;132;01m}\u001b[39;00m\u001b[38;5;124m\"\u001b[39m\n\u001b[1;32m     72\u001b[0m             )\n\u001b[1;32m     74\u001b[0m \u001b[38;5;28;01mreturn\u001b[39;00m data\n",
      "\u001b[0;31mValueError\u001b[0m: Не удалось привести значение 'Alice' в столбце 'Name' к типу float"
     ]
    }
   ],
   "source": [
    "set_column_types('example.txt', {1: 'float', 2: 'float'}, by_number=True)  # Пример работы системы ошибок"
   ]
  },
  {
   "cell_type": "markdown",
   "id": "4d6404e6-484b-406c-b9e2-d67c303ea3ca",
   "metadata": {},
   "source": [
    "# Функция set_values()"
   ]
  },
  {
   "cell_type": "code",
   "execution_count": 2028,
   "id": "096ad56c-5fff-422e-a26d-b1302c70fc7d",
   "metadata": {},
   "outputs": [
    {
     "name": "stdout",
     "output_type": "stream",
     "text": [
      "╒═════════╤═══════╤══════════╕\n",
      "│ Name    │   Age │ City     │\n",
      "╞═════════╪═══════╪══════════╡\n",
      "│ Alice   │    30 │ New York │\n",
      "├─────────┼───────┼──────────┤\n",
      "│ Bob     │    25 │ London   │\n",
      "├─────────┼───────┼──────────┤\n",
      "│ Charlie │    35 │ Paris    │\n",
      "├─────────┼───────┼──────────┤\n",
      "│ David   │    40 │ Berlin   │\n",
      "├─────────┼───────┼──────────┤\n",
      "│ Eve     │    28 │ Tokyo    │\n",
      "╘═════════╧═══════╧══════════╛\n",
      "Выведен второй стоблец из файла 'example.pkl': [30, 25, 35, 40, 28]\n"
     ]
    }
   ],
   "source": [
    "table_data = set_column_types('example.pkl', {1: 'str', 2: 'int'}, by_number=True)\n",
    "print_table(table_data)\n",
    "print(f\"Выведен второй стоблец из файла 'example.pkl':\", get_values(table_data, 2))"
   ]
  },
  {
   "cell_type": "code",
   "execution_count": 2030,
   "id": "2eea1236-1048-457c-8422-520778c35cfc",
   "metadata": {},
   "outputs": [
    {
     "name": "stdout",
     "output_type": "stream",
     "text": [
      "╒═════════╤═══════╤══════════╕\n",
      "│ Name    │   Age │ City     │\n",
      "╞═════════╪═══════╪══════════╡\n",
      "│ Alice   │    30 │ New York │\n",
      "├─────────┼───────┼──────────┤\n",
      "│ Bob     │    25 │ London   │\n",
      "├─────────┼───────┼──────────┤\n",
      "│ Charlie │    35 │ Paris    │\n",
      "├─────────┼───────┼──────────┤\n",
      "│ David   │    40 │ Berlin   │\n",
      "├─────────┼───────┼──────────┤\n",
      "│ Eve     │    28 │ Tokyo    │\n",
      "╘═════════╧═══════╧══════════╛\n",
      "Выведен второй стоблец из файла 'example.pkl': [30.0, 25.0, 35.0, 40.0, 28.0]\n"
     ]
    }
   ],
   "source": [
    "table_data = set_column_types('example.pkl', {1: 'str', 2: 'float'}, by_number=True)\n",
    "print_table(table_data)\n",
    "print(f\"Выведен второй стоблец из файла 'example.pkl':\", get_values(table_data, 'Age'))"
   ]
  },
  {
   "cell_type": "code",
   "execution_count": 2032,
   "id": "bee340dd-d493-47aa-b8f9-6050aa88588d",
   "metadata": {},
   "outputs": [
    {
     "ename": "ValueError",
     "evalue": "Таблица содержит только заголовок",
     "output_type": "error",
     "traceback": [
      "\u001b[0;31m---------------------------------------------------------------------------\u001b[0m",
      "\u001b[0;31mValueError\u001b[0m                                Traceback (most recent call last)",
      "Cell \u001b[0;32mIn[2032], line 1\u001b[0m\n\u001b[0;32m----> 1\u001b[0m \u001b[38;5;28mprint\u001b[39m(\u001b[38;5;124mf\u001b[39m\u001b[38;5;124m\"\u001b[39m\u001b[38;5;124mВыведен второй стоблец из файла \u001b[39m\u001b[38;5;124m'\u001b[39m\u001b[38;5;124mexample.pkl\u001b[39m\u001b[38;5;124m'\u001b[39m\u001b[38;5;124m:\u001b[39m\u001b[38;5;124m\"\u001b[39m, get_values(table_1, \u001b[38;5;124m'\u001b[39m\u001b[38;5;124mAge\u001b[39m\u001b[38;5;124m'\u001b[39m))\n",
      "Cell \u001b[0;32mIn[1139], line 9\u001b[0m, in \u001b[0;36mget_values\u001b[0;34m(data, column)\u001b[0m\n\u001b[1;32m      7\u001b[0m \u001b[38;5;66;03m# Проверка данных\u001b[39;00m\n\u001b[1;32m      8\u001b[0m \u001b[38;5;28;01mif\u001b[39;00m \u001b[38;5;28mlen\u001b[39m(data) \u001b[38;5;241m==\u001b[39m \u001b[38;5;241m1\u001b[39m:\n\u001b[0;32m----> 9\u001b[0m     \u001b[38;5;28;01mraise\u001b[39;00m \u001b[38;5;167;01mValueError\u001b[39;00m(\u001b[38;5;124m\"\u001b[39m\u001b[38;5;124mТаблица содержит только заголовок\u001b[39m\u001b[38;5;124m\"\u001b[39m)\n\u001b[1;32m     11\u001b[0m header \u001b[38;5;241m=\u001b[39m data[\u001b[38;5;241m0\u001b[39m]  \u001b[38;5;66;03m# Заголовок\u001b[39;00m\n\u001b[1;32m     12\u001b[0m column_count \u001b[38;5;241m=\u001b[39m \u001b[38;5;28mlen\u001b[39m(header)  \u001b[38;5;66;03m# Количество столбцов в файле\u001b[39;00m\n",
      "\u001b[0;31mValueError\u001b[0m: Таблица содержит только заголовок"
     ]
    }
   ],
   "source": [
    "print(f\"Выведен второй стоблец из файла 'example.pkl':\", get_values(table_1, 'Age'))  # Пример работы системы ошибок"
   ]
  },
  {
   "cell_type": "code",
   "execution_count": 2034,
   "id": "b822ba82-5d48-4a2c-aed0-0544c2e7aebc",
   "metadata": {},
   "outputs": [
    {
     "ename": "ValueError",
     "evalue": "В заголовке нет столбца с названием 'fssfa'",
     "output_type": "error",
     "traceback": [
      "\u001b[0;31m---------------------------------------------------------------------------\u001b[0m",
      "\u001b[0;31mValueError\u001b[0m                                Traceback (most recent call last)",
      "Cell \u001b[0;32mIn[2034], line 1\u001b[0m\n\u001b[0;32m----> 1\u001b[0m \u001b[38;5;28mprint\u001b[39m(\u001b[38;5;124mf\u001b[39m\u001b[38;5;124m\"\u001b[39m\u001b[38;5;124mВыведен второй стоблец из файла \u001b[39m\u001b[38;5;124m'\u001b[39m\u001b[38;5;124mexample.pkl\u001b[39m\u001b[38;5;124m'\u001b[39m\u001b[38;5;124m:\u001b[39m\u001b[38;5;124m\"\u001b[39m, get_values(table_data, \u001b[38;5;124m'\u001b[39m\u001b[38;5;124mfssfa\u001b[39m\u001b[38;5;124m'\u001b[39m))\n",
      "Cell \u001b[0;32mIn[1139], line 23\u001b[0m, in \u001b[0;36mget_values\u001b[0;34m(data, column)\u001b[0m\n\u001b[1;32m     20\u001b[0m \u001b[38;5;28;01melse\u001b[39;00m:\n\u001b[1;32m     21\u001b[0m     \u001b[38;5;66;03m# Проверка корректности названия введенного столбца\u001b[39;00m\n\u001b[1;32m     22\u001b[0m     \u001b[38;5;28;01mif\u001b[39;00m column \u001b[38;5;129;01mnot\u001b[39;00m \u001b[38;5;129;01min\u001b[39;00m header:\n\u001b[0;32m---> 23\u001b[0m         \u001b[38;5;28;01mraise\u001b[39;00m \u001b[38;5;167;01mValueError\u001b[39;00m(\u001b[38;5;124mf\u001b[39m\u001b[38;5;124m\"\u001b[39m\u001b[38;5;124mВ заголовке нет столбца с названием \u001b[39m\u001b[38;5;124m'\u001b[39m\u001b[38;5;132;01m{\u001b[39;00mcolumn\u001b[38;5;132;01m}\u001b[39;00m\u001b[38;5;124m'\u001b[39m\u001b[38;5;124m\"\u001b[39m)\n\u001b[1;32m     24\u001b[0m     col_idx \u001b[38;5;241m=\u001b[39m header\u001b[38;5;241m.\u001b[39mindex(column)\n\u001b[1;32m     26\u001b[0m \u001b[38;5;66;03m# Предполагается, что таблица уже типизирована (если вызывалась set_column_types),\u001b[39;00m\n",
      "\u001b[0;31mValueError\u001b[0m: В заголовке нет столбца с названием 'fssfa'"
     ]
    }
   ],
   "source": [
    "print(f\"Выведен второй стоблец из файла 'example.pkl':\", get_values(table_data, 'fssfa'))  # Пример работы системы ошибок"
   ]
  },
  {
   "cell_type": "code",
   "execution_count": 2036,
   "id": "29026030-8b1f-42fb-bb5d-47337180f5b0",
   "metadata": {},
   "outputs": [
    {
     "ename": "IndexError",
     "evalue": "Некорректный номер столбца: 4. Всего столбцов: 3",
     "output_type": "error",
     "traceback": [
      "\u001b[0;31m---------------------------------------------------------------------------\u001b[0m",
      "\u001b[0;31mIndexError\u001b[0m                                Traceback (most recent call last)",
      "Cell \u001b[0;32mIn[2036], line 1\u001b[0m\n\u001b[0;32m----> 1\u001b[0m \u001b[38;5;28mprint\u001b[39m(\u001b[38;5;124mf\u001b[39m\u001b[38;5;124m\"\u001b[39m\u001b[38;5;124mВыведен второй стоблец из файла \u001b[39m\u001b[38;5;124m'\u001b[39m\u001b[38;5;124mexample.pkl\u001b[39m\u001b[38;5;124m'\u001b[39m\u001b[38;5;124m:\u001b[39m\u001b[38;5;124m\"\u001b[39m, get_values(table_data, \u001b[38;5;241m4\u001b[39m))\n",
      "Cell \u001b[0;32mIn[1139], line 18\u001b[0m, in \u001b[0;36mget_values\u001b[0;34m(data, column)\u001b[0m\n\u001b[1;32m     15\u001b[0m \u001b[38;5;28;01mif\u001b[39;00m \u001b[38;5;28misinstance\u001b[39m(column, \u001b[38;5;28mint\u001b[39m):\n\u001b[1;32m     16\u001b[0m     \u001b[38;5;66;03m# Проверка корректности индекса введенного столбца\u001b[39;00m\n\u001b[1;32m     17\u001b[0m     \u001b[38;5;28;01mif\u001b[39;00m column \u001b[38;5;241m<\u001b[39m\u001b[38;5;241m=\u001b[39m \u001b[38;5;241m0\u001b[39m \u001b[38;5;129;01mor\u001b[39;00m column \u001b[38;5;241m>\u001b[39m column_count:\n\u001b[0;32m---> 18\u001b[0m         \u001b[38;5;28;01mraise\u001b[39;00m \u001b[38;5;167;01mIndexError\u001b[39;00m(\u001b[38;5;124mf\u001b[39m\u001b[38;5;124m\"\u001b[39m\u001b[38;5;124mНекорректный номер столбца: \u001b[39m\u001b[38;5;132;01m{\u001b[39;00mcolumn\u001b[38;5;132;01m}\u001b[39;00m\u001b[38;5;124m. Всего столбцов: \u001b[39m\u001b[38;5;132;01m{\u001b[39;00mcolumn_count\u001b[38;5;132;01m}\u001b[39;00m\u001b[38;5;124m\"\u001b[39m)\n\u001b[1;32m     19\u001b[0m     col_idx \u001b[38;5;241m=\u001b[39m column \u001b[38;5;241m-\u001b[39m \u001b[38;5;241m1\u001b[39m \n\u001b[1;32m     20\u001b[0m \u001b[38;5;28;01melse\u001b[39;00m:\n\u001b[1;32m     21\u001b[0m     \u001b[38;5;66;03m# Проверка корректности названия введенного столбца\u001b[39;00m\n",
      "\u001b[0;31mIndexError\u001b[0m: Некорректный номер столбца: 4. Всего столбцов: 3"
     ]
    }
   ],
   "source": [
    "print(f\"Выведен второй стоблец из файла 'example.pkl':\", get_values(table_data, 4))  # Пример работы системы ошибок"
   ]
  },
  {
   "cell_type": "markdown",
   "id": "48dbedd3-e99f-475e-ba3a-4415477e665c",
   "metadata": {},
   "source": [
    "# Функция get_value()"
   ]
  },
  {
   "cell_type": "code",
   "execution_count": 2038,
   "id": "c3a9b574-4dc0-4601-8ba4-1fdffa68b95b",
   "metadata": {},
   "outputs": [
    {
     "name": "stdout",
     "output_type": "stream",
     "text": [
      "╒══════╤═════════╤═══════╤════════╕\n",
      "│   ID │ Name    │   Age │ City   │\n",
      "╞══════╪═════════╪═══════╪════════╡\n",
      "│    3 │ Charlie │    35 │ Paris  │\n",
      "╘══════╧═════════╧═══════╧════════╛\n",
      "Выведен второй стоблец из файла 'example_copied.csv': Charlie\n"
     ]
    }
   ],
   "source": [
    "get_rows_by_index(\"example.csv\", (3), True)\n",
    "data = load_table(\"example_copied.csv\")\n",
    "print_table(data)\n",
    "print(f\"Выведен второй стоблец из файла 'example_copied.csv':\", get_value(data, 2))"
   ]
  },
  {
   "cell_type": "code",
   "execution_count": 2040,
   "id": "4f7f3a32-c039-4b34-8fb2-b42747ae724a",
   "metadata": {},
   "outputs": [
    {
     "name": "stdout",
     "output_type": "stream",
     "text": [
      "Выведен первый стоблец из файла 'example_copied.csv': 3\n"
     ]
    }
   ],
   "source": [
    "print(f\"Выведен первый стоблец из файла 'example_copied.csv':\", get_value(data, 'ID'))"
   ]
  },
  {
   "cell_type": "code",
   "execution_count": 2042,
   "id": "d86c44e8-2961-46f2-bef0-e3f5869568e5",
   "metadata": {},
   "outputs": [
    {
     "ename": "IndexError",
     "evalue": "Некорректный номер столбца: 5. Всего столбцов: 4",
     "output_type": "error",
     "traceback": [
      "\u001b[0;31m---------------------------------------------------------------------------\u001b[0m",
      "\u001b[0;31mIndexError\u001b[0m                                Traceback (most recent call last)",
      "Cell \u001b[0;32mIn[2042], line 1\u001b[0m\n\u001b[0;32m----> 1\u001b[0m \u001b[38;5;28mprint\u001b[39m(\u001b[38;5;124mf\u001b[39m\u001b[38;5;124m\"\u001b[39m\u001b[38;5;124mВыведен второй стоблец из файла \u001b[39m\u001b[38;5;124m'\u001b[39m\u001b[38;5;124mexample_copied.csv\u001b[39m\u001b[38;5;124m'\u001b[39m\u001b[38;5;124m:\u001b[39m\u001b[38;5;124m\"\u001b[39m, get_value(data, \u001b[38;5;241m5\u001b[39m))\n",
      "Cell \u001b[0;32mIn[1294], line 20\u001b[0m, in \u001b[0;36mget_value\u001b[0;34m(data, column)\u001b[0m\n\u001b[1;32m     17\u001b[0m \u001b[38;5;28;01mif\u001b[39;00m \u001b[38;5;28misinstance\u001b[39m(column, \u001b[38;5;28mint\u001b[39m):\n\u001b[1;32m     18\u001b[0m     \u001b[38;5;66;03m# Проверка корректности индекса введенного столбца\u001b[39;00m\n\u001b[1;32m     19\u001b[0m     \u001b[38;5;28;01mif\u001b[39;00m column \u001b[38;5;241m<\u001b[39m\u001b[38;5;241m=\u001b[39m \u001b[38;5;241m0\u001b[39m \u001b[38;5;129;01mor\u001b[39;00m column \u001b[38;5;241m>\u001b[39m column_count:\n\u001b[0;32m---> 20\u001b[0m         \u001b[38;5;28;01mraise\u001b[39;00m \u001b[38;5;167;01mIndexError\u001b[39;00m(\u001b[38;5;124mf\u001b[39m\u001b[38;5;124m\"\u001b[39m\u001b[38;5;124mНекорректный номер столбца: \u001b[39m\u001b[38;5;132;01m{\u001b[39;00mcolumn\u001b[38;5;132;01m}\u001b[39;00m\u001b[38;5;124m. Всего столбцов: \u001b[39m\u001b[38;5;132;01m{\u001b[39;00mcolumn_count\u001b[38;5;132;01m}\u001b[39;00m\u001b[38;5;124m\"\u001b[39m)\n\u001b[1;32m     21\u001b[0m     col_idx \u001b[38;5;241m=\u001b[39m column \u001b[38;5;241m-\u001b[39m \u001b[38;5;241m1\u001b[39m \n\u001b[1;32m     22\u001b[0m \u001b[38;5;28;01melse\u001b[39;00m:\n\u001b[1;32m     23\u001b[0m     \u001b[38;5;66;03m# Проверка корректности названия введенного столбца\u001b[39;00m\n",
      "\u001b[0;31mIndexError\u001b[0m: Некорректный номер столбца: 5. Всего столбцов: 4"
     ]
    }
   ],
   "source": [
    "print(f\"Выведен второй стоблец из файла 'example_copied.csv':\", get_value(data, 5))  # Пример работы системы ошибок"
   ]
  },
  {
   "cell_type": "code",
   "execution_count": 2044,
   "id": "a3feedf3-3c1d-471d-b7cf-d2511ba24542",
   "metadata": {},
   "outputs": [
    {
     "ename": "ValueError",
     "evalue": "Нет данных",
     "output_type": "error",
     "traceback": [
      "\u001b[0;31m---------------------------------------------------------------------------\u001b[0m",
      "\u001b[0;31mValueError\u001b[0m                                Traceback (most recent call last)",
      "Cell \u001b[0;32mIn[2044], line 1\u001b[0m\n\u001b[0;32m----> 1\u001b[0m \u001b[38;5;28mprint\u001b[39m(\u001b[38;5;124mf\u001b[39m\u001b[38;5;124m\"\u001b[39m\u001b[38;5;124mВыведен второй стоблец из файла \u001b[39m\u001b[38;5;124m'\u001b[39m\u001b[38;5;124mexample_copied.csv\u001b[39m\u001b[38;5;124m'\u001b[39m\u001b[38;5;124m:\u001b[39m\u001b[38;5;124m\"\u001b[39m, get_value([], \u001b[38;5;241m2\u001b[39m))\n",
      "Cell \u001b[0;32mIn[1294], line 5\u001b[0m, in \u001b[0;36mget_value\u001b[0;34m(data, column)\u001b[0m\n\u001b[1;32m      1\u001b[0m \u001b[38;5;28;01mdef\u001b[39;00m \u001b[38;5;21mget_value\u001b[39m(data, column\u001b[38;5;241m=\u001b[39m\u001b[38;5;241m1\u001b[39m):\n\u001b[1;32m      2\u001b[0m     \n\u001b[1;32m      3\u001b[0m     \u001b[38;5;66;03m# Проверка наличия данных\u001b[39;00m\n\u001b[1;32m      4\u001b[0m     \u001b[38;5;28;01mif\u001b[39;00m \u001b[38;5;129;01mnot\u001b[39;00m data:\n\u001b[0;32m----> 5\u001b[0m         \u001b[38;5;28;01mraise\u001b[39;00m \u001b[38;5;167;01mValueError\u001b[39;00m(\u001b[38;5;124m\"\u001b[39m\u001b[38;5;124mНет данных\u001b[39m\u001b[38;5;124m\"\u001b[39m)\n\u001b[1;32m      7\u001b[0m     \u001b[38;5;66;03m# Проверка данных\u001b[39;00m\n\u001b[1;32m      8\u001b[0m     \u001b[38;5;28;01mif\u001b[39;00m \u001b[38;5;28mlen\u001b[39m(data) \u001b[38;5;241m==\u001b[39m \u001b[38;5;241m1\u001b[39m:\n",
      "\u001b[0;31mValueError\u001b[0m: Нет данных"
     ]
    }
   ],
   "source": [
    "print(f\"Выведен второй стоблец из файла 'example_copied.csv':\", get_value([], 2)) # Пример работы системы ошибок"
   ]
  },
  {
   "cell_type": "code",
   "execution_count": 2046,
   "id": "a9196d7a-0095-4b15-a5fd-515128634dd1",
   "metadata": {},
   "outputs": [
    {
     "ename": "ValueError",
     "evalue": "В заголовке нет столбца с названием 'gfj'",
     "output_type": "error",
     "traceback": [
      "\u001b[0;31m---------------------------------------------------------------------------\u001b[0m",
      "\u001b[0;31mValueError\u001b[0m                                Traceback (most recent call last)",
      "Cell \u001b[0;32mIn[2046], line 1\u001b[0m\n\u001b[0;32m----> 1\u001b[0m \u001b[38;5;28mprint\u001b[39m(\u001b[38;5;124mf\u001b[39m\u001b[38;5;124m\"\u001b[39m\u001b[38;5;124mВыведен второй стоблец из файла \u001b[39m\u001b[38;5;124m'\u001b[39m\u001b[38;5;124mexample_copied.csv\u001b[39m\u001b[38;5;124m'\u001b[39m\u001b[38;5;124m:\u001b[39m\u001b[38;5;124m\"\u001b[39m, get_value(data, \u001b[38;5;124m'\u001b[39m\u001b[38;5;124mgfj\u001b[39m\u001b[38;5;124m'\u001b[39m))\n",
      "Cell \u001b[0;32mIn[1294], line 25\u001b[0m, in \u001b[0;36mget_value\u001b[0;34m(data, column)\u001b[0m\n\u001b[1;32m     22\u001b[0m \u001b[38;5;28;01melse\u001b[39;00m:\n\u001b[1;32m     23\u001b[0m     \u001b[38;5;66;03m# Проверка корректности названия введенного столбца\u001b[39;00m\n\u001b[1;32m     24\u001b[0m     \u001b[38;5;28;01mif\u001b[39;00m column \u001b[38;5;129;01mnot\u001b[39;00m \u001b[38;5;129;01min\u001b[39;00m header:\n\u001b[0;32m---> 25\u001b[0m         \u001b[38;5;28;01mraise\u001b[39;00m \u001b[38;5;167;01mValueError\u001b[39;00m(\u001b[38;5;124mf\u001b[39m\u001b[38;5;124m\"\u001b[39m\u001b[38;5;124mВ заголовке нет столбца с названием \u001b[39m\u001b[38;5;124m'\u001b[39m\u001b[38;5;132;01m{\u001b[39;00mcolumn\u001b[38;5;132;01m}\u001b[39;00m\u001b[38;5;124m'\u001b[39m\u001b[38;5;124m\"\u001b[39m)\n\u001b[1;32m     26\u001b[0m     col_idx \u001b[38;5;241m=\u001b[39m header\u001b[38;5;241m.\u001b[39mindex(column)\n\u001b[1;32m     28\u001b[0m \u001b[38;5;66;03m# Предполагается, что таблица уже типизирована (если вызывалась set_column_types),\u001b[39;00m\n",
      "\u001b[0;31mValueError\u001b[0m: В заголовке нет столбца с названием 'gfj'"
     ]
    }
   ],
   "source": [
    "print(f\"Выведен второй стоблец из файла 'example_copied.csv':\", get_value(data, 'gfj'))  # Пример работы системы ошибок"
   ]
  },
  {
   "cell_type": "code",
   "execution_count": 2048,
   "id": "cb11662d-8c79-4a0d-8c45-f0acf5a275d5",
   "metadata": {},
   "outputs": [
    {
     "ename": "ValueError",
     "evalue": "В таблице должна быть одна строка без учёта заголовка",
     "output_type": "error",
     "traceback": [
      "\u001b[0;31m---------------------------------------------------------------------------\u001b[0m",
      "\u001b[0;31mValueError\u001b[0m                                Traceback (most recent call last)",
      "Cell \u001b[0;32mIn[2048], line 1\u001b[0m\n\u001b[0;32m----> 1\u001b[0m \u001b[38;5;28mprint\u001b[39m(\u001b[38;5;124mf\u001b[39m\u001b[38;5;124m\"\u001b[39m\u001b[38;5;124mВыведен второй стоблец из файла \u001b[39m\u001b[38;5;124m'\u001b[39m\u001b[38;5;124mexample_copied.csv\u001b[39m\u001b[38;5;124m'\u001b[39m\u001b[38;5;124m:\u001b[39m\u001b[38;5;124m\"\u001b[39m, get_value(table_data, \u001b[38;5;241m1\u001b[39m))\n",
      "Cell \u001b[0;32mIn[1294], line 11\u001b[0m, in \u001b[0;36mget_value\u001b[0;34m(data, column)\u001b[0m\n\u001b[1;32m      9\u001b[0m     \u001b[38;5;28;01mraise\u001b[39;00m \u001b[38;5;167;01mValueError\u001b[39;00m(\u001b[38;5;124m\"\u001b[39m\u001b[38;5;124mТаблица содержит только заголовок\u001b[39m\u001b[38;5;124m\"\u001b[39m)\n\u001b[1;32m     10\u001b[0m \u001b[38;5;28;01mif\u001b[39;00m \u001b[38;5;28mlen\u001b[39m(data) \u001b[38;5;241m>\u001b[39m \u001b[38;5;241m2\u001b[39m:\n\u001b[0;32m---> 11\u001b[0m     \u001b[38;5;28;01mraise\u001b[39;00m \u001b[38;5;167;01mValueError\u001b[39;00m(\u001b[38;5;124m\"\u001b[39m\u001b[38;5;124mВ таблице должна быть одна строка без учёта заголовка\u001b[39m\u001b[38;5;124m\"\u001b[39m)\n\u001b[1;32m     13\u001b[0m header \u001b[38;5;241m=\u001b[39m data[\u001b[38;5;241m0\u001b[39m]  \u001b[38;5;66;03m# Заголовок\u001b[39;00m\n\u001b[1;32m     14\u001b[0m column_count \u001b[38;5;241m=\u001b[39m \u001b[38;5;28mlen\u001b[39m(header)  \u001b[38;5;66;03m# Количество столбцов в файле\u001b[39;00m\n",
      "\u001b[0;31mValueError\u001b[0m: В таблице должна быть одна строка без учёта заголовка"
     ]
    }
   ],
   "source": [
    "print(f\"Выведен второй стоблец из файла 'example_copied.csv':\", get_value(table_data, 1))  # Пример работы системы ошибок"
   ]
  },
  {
   "cell_type": "code",
   "execution_count": 2050,
   "id": "79ff6981-f8ba-4952-98dc-799cbe85d8c0",
   "metadata": {},
   "outputs": [
    {
     "name": "stdout",
     "output_type": "stream",
     "text": [
      "╒════════╤═══════╤════════╕\n",
      "│ Name   │ Age   │ City   │\n",
      "╞════════╪═══════╪════════╡\n",
      "╘════════╧═══════╧════════╛\n",
      "[['Name', 'Age', 'City']]\n"
     ]
    },
    {
     "ename": "ValueError",
     "evalue": "Таблица содержит только заголовок",
     "output_type": "error",
     "traceback": [
      "\u001b[0;31m---------------------------------------------------------------------------\u001b[0m",
      "\u001b[0;31mValueError\u001b[0m                                Traceback (most recent call last)",
      "Cell \u001b[0;32mIn[2050], line 5\u001b[0m\n\u001b[1;32m      3\u001b[0m print_table(data_1)\n\u001b[1;32m      4\u001b[0m \u001b[38;5;28mprint\u001b[39m(data_1)\n\u001b[0;32m----> 5\u001b[0m \u001b[38;5;28mprint\u001b[39m(get_value(data_1, \u001b[38;5;241m2\u001b[39m))\n",
      "Cell \u001b[0;32mIn[1294], line 9\u001b[0m, in \u001b[0;36mget_value\u001b[0;34m(data, column)\u001b[0m\n\u001b[1;32m      7\u001b[0m \u001b[38;5;66;03m# Проверка данных\u001b[39;00m\n\u001b[1;32m      8\u001b[0m \u001b[38;5;28;01mif\u001b[39;00m \u001b[38;5;28mlen\u001b[39m(data) \u001b[38;5;241m==\u001b[39m \u001b[38;5;241m1\u001b[39m:\n\u001b[0;32m----> 9\u001b[0m     \u001b[38;5;28;01mraise\u001b[39;00m \u001b[38;5;167;01mValueError\u001b[39;00m(\u001b[38;5;124m\"\u001b[39m\u001b[38;5;124mТаблица содержит только заголовок\u001b[39m\u001b[38;5;124m\"\u001b[39m)\n\u001b[1;32m     10\u001b[0m \u001b[38;5;28;01mif\u001b[39;00m \u001b[38;5;28mlen\u001b[39m(data) \u001b[38;5;241m>\u001b[39m \u001b[38;5;241m2\u001b[39m:\n\u001b[1;32m     11\u001b[0m     \u001b[38;5;28;01mraise\u001b[39;00m \u001b[38;5;167;01mValueError\u001b[39;00m(\u001b[38;5;124m\"\u001b[39m\u001b[38;5;124mВ таблице должна быть одна строка без учёта заголовка\u001b[39m\u001b[38;5;124m\"\u001b[39m)\n",
      "\u001b[0;31mValueError\u001b[0m: Таблица содержит только заголовок"
     ]
    }
   ],
   "source": [
    "save_table(table_1, 'err.txt')  # Пример работы системы ошибок\n",
    "data_1 = load_table('err.txt')\n",
    "print_table(data_1)\n",
    "print(data_1)\n",
    "print(get_value(data_1, 2))"
   ]
  },
  {
   "cell_type": "markdown",
   "id": "8fd61d27-dd8f-4e4c-8d2c-6b4bf7d54d28",
   "metadata": {},
   "source": [
    "# Функция set_values()"
   ]
  },
  {
   "cell_type": "code",
   "execution_count": 2052,
   "id": "3e185ab7-b19b-42f4-9362-1837f0af0ab5",
   "metadata": {},
   "outputs": [
    {
     "name": "stdout",
     "output_type": "stream",
     "text": [
      "╒═════════╤═══════╤══════════╕\n",
      "│ Name    │   Age │ City     │\n",
      "╞═════════╪═══════╪══════════╡\n",
      "│ Alice   │    30 │ New York │\n",
      "├─────────┼───────┼──────────┤\n",
      "│ Bob     │    25 │ London   │\n",
      "├─────────┼───────┼──────────┤\n",
      "│ Charlie │    35 │ Paris    │\n",
      "├─────────┼───────┼──────────┤\n",
      "│ David   │    40 │ Berlin   │\n",
      "├─────────┼───────┼──────────┤\n",
      "│ Eve     │    28 │ Tokyo    │\n",
      "╘═════════╧═══════╧══════════╛\n",
      "Выведены данные с заменённым вторым столбцом:\n",
      "╒═════════╤═══════╤══════════╕\n",
      "│ Name    │   Age │ City     │\n",
      "╞═════════╪═══════╪══════════╡\n",
      "│ Alice   │    22 │ New York │\n",
      "├─────────┼───────┼──────────┤\n",
      "│ Bob     │    18 │ London   │\n",
      "├─────────┼───────┼──────────┤\n",
      "│ Charlie │    52 │ Paris    │\n",
      "├─────────┼───────┼──────────┤\n",
      "│ David   │    66 │ Berlin   │\n",
      "├─────────┼───────┼──────────┤\n",
      "│ Eve     │    14 │ Tokyo    │\n",
      "╘═════════╧═══════╧══════════╛\n"
     ]
    }
   ],
   "source": [
    "table_data = set_column_types('example.pkl', {1: 'str', 2: 'int'}, by_number=True)\n",
    "print_table(table_data)\n",
    "print(\"Выведены данные с заменённым вторым столбцом:\")\n",
    "print_table(set_values(table_data, [22, 18, 52, 66, 14], 2))"
   ]
  },
  {
   "cell_type": "code",
   "execution_count": 2054,
   "id": "40ad821c-8f2e-4910-b566-e677509c8de8",
   "metadata": {},
   "outputs": [
    {
     "name": "stdout",
     "output_type": "stream",
     "text": [
      "╒═════════╤═══════╤══════════╕\n",
      "│ Name    │   Age │ City     │\n",
      "╞═════════╪═══════╪══════════╡\n",
      "│ Alice   │    30 │ New York │\n",
      "├─────────┼───────┼──────────┤\n",
      "│ Bob     │    25 │ London   │\n",
      "├─────────┼───────┼──────────┤\n",
      "│ Charlie │    35 │ Paris    │\n",
      "├─────────┼───────┼──────────┤\n",
      "│ David   │    40 │ Berlin   │\n",
      "├─────────┼───────┼──────────┤\n",
      "│ Eve     │    28 │ Tokyo    │\n",
      "╘═════════╧═══════╧══════════╛\n",
      "Выведены данные с заменённым вторым столбцом:\n",
      "╒═════════╤═══════╤══════════╕\n",
      "│ Name    │   Age │ City     │\n",
      "╞═════════╪═══════╪══════════╡\n",
      "│ Alice   │    22 │ New York │\n",
      "├─────────┼───────┼──────────┤\n",
      "│ Bob     │    18 │ London   │\n",
      "├─────────┼───────┼──────────┤\n",
      "│ Charlie │    52 │ Paris    │\n",
      "├─────────┼───────┼──────────┤\n",
      "│ David   │    66 │ Berlin   │\n",
      "├─────────┼───────┼──────────┤\n",
      "│ Eve     │    14 │ Tokyo    │\n",
      "╘═════════╧═══════╧══════════╛\n"
     ]
    }
   ],
   "source": [
    "print_table(table_data)\n",
    "print(\"Выведены данные с заменённым вторым столбцом:\")\n",
    "print_table(set_values(table_data, [22, 18, 52, 66, 14], \"Age\"))"
   ]
  },
  {
   "cell_type": "code",
   "execution_count": 2056,
   "id": "34900fd9-648e-426e-b3e5-cef4828f2eac",
   "metadata": {},
   "outputs": [
    {
     "ename": "ValueError",
     "evalue": "Количество значений в переданном столбце не совпадает с количеством значений в столбце таблицы",
     "output_type": "error",
     "traceback": [
      "\u001b[0;31m---------------------------------------------------------------------------\u001b[0m",
      "\u001b[0;31mValueError\u001b[0m                                Traceback (most recent call last)",
      "Cell \u001b[0;32mIn[2056], line 1\u001b[0m\n\u001b[0;32m----> 1\u001b[0m print_table(set_values(table_data, [\u001b[38;5;241m22\u001b[39m, \u001b[38;5;241m18\u001b[39m, \u001b[38;5;241m52\u001b[39m], \u001b[38;5;241m2\u001b[39m))\n",
      "Cell \u001b[0;32mIn[1302], line 15\u001b[0m, in \u001b[0;36mset_values\u001b[0;34m(data, values, column)\u001b[0m\n\u001b[1;32m     13\u001b[0m \u001b[38;5;66;03m# Проверка корректрости переданных значений в столбце\u001b[39;00m\n\u001b[1;32m     14\u001b[0m \u001b[38;5;28;01mif\u001b[39;00m \u001b[38;5;28mlen\u001b[39m(data) \u001b[38;5;241m-\u001b[39m \u001b[38;5;241m1\u001b[39m \u001b[38;5;241m!=\u001b[39m \u001b[38;5;28mlen\u001b[39m(values):\n\u001b[0;32m---> 15\u001b[0m     \u001b[38;5;28;01mraise\u001b[39;00m \u001b[38;5;167;01mValueError\u001b[39;00m(\u001b[38;5;124m\"\u001b[39m\u001b[38;5;124mКоличество значений в переданном столбце не совпадает с количеством значений в столбце таблицы\u001b[39m\u001b[38;5;124m\"\u001b[39m)\n\u001b[1;32m     17\u001b[0m header \u001b[38;5;241m=\u001b[39m data[\u001b[38;5;241m0\u001b[39m]  \u001b[38;5;66;03m# Заголовок\u001b[39;00m\n\u001b[1;32m     18\u001b[0m column_count \u001b[38;5;241m=\u001b[39m \u001b[38;5;28mlen\u001b[39m(header)  \u001b[38;5;66;03m# Количество столбцов в файле\u001b[39;00m\n",
      "\u001b[0;31mValueError\u001b[0m: Количество значений в переданном столбце не совпадает с количеством значений в столбце таблицы"
     ]
    }
   ],
   "source": [
    "print_table(set_values(table_data, [22, 18, 52], 2))  # Пример работы системы ошибок"
   ]
  },
  {
   "cell_type": "code",
   "execution_count": 2058,
   "id": "2665999a-3a75-4ea5-a6aa-a73c4d56eff2",
   "metadata": {},
   "outputs": [
    {
     "ename": "TypeError",
     "evalue": "Тип значения 14.5 не совпадает с типом столбца 2",
     "output_type": "error",
     "traceback": [
      "\u001b[0;31m---------------------------------------------------------------------------\u001b[0m",
      "\u001b[0;31mTypeError\u001b[0m                                 Traceback (most recent call last)",
      "Cell \u001b[0;32mIn[2058], line 1\u001b[0m\n\u001b[0;32m----> 1\u001b[0m print_table(set_values(table_data, [\u001b[38;5;241m22\u001b[39m, \u001b[38;5;241m18\u001b[39m, \u001b[38;5;241m52\u001b[39m, \u001b[38;5;241m14.5\u001b[39m, \u001b[38;5;124m\"\u001b[39m\u001b[38;5;124mпять\u001b[39m\u001b[38;5;124m\"\u001b[39m], \u001b[38;5;241m2\u001b[39m))\n",
      "Cell \u001b[0;32mIn[1302], line 43\u001b[0m, in \u001b[0;36mset_values\u001b[0;34m(data, values, column)\u001b[0m\n\u001b[1;32m     41\u001b[0m         new_line\u001b[38;5;241m.\u001b[39mappend(values[line_idx])\n\u001b[1;32m     42\u001b[0m     \u001b[38;5;28;01melse\u001b[39;00m:\n\u001b[0;32m---> 43\u001b[0m         \u001b[38;5;28;01mraise\u001b[39;00m \u001b[38;5;167;01mTypeError\u001b[39;00m(\u001b[38;5;124mf\u001b[39m\u001b[38;5;124m\"\u001b[39m\u001b[38;5;124mТип значения \u001b[39m\u001b[38;5;132;01m{\u001b[39;00mvalues[line_idx]\u001b[38;5;132;01m}\u001b[39;00m\u001b[38;5;124m не совпадает с типом столбца \u001b[39m\u001b[38;5;132;01m{\u001b[39;00mcolumn\u001b[38;5;132;01m}\u001b[39;00m\u001b[38;5;124m\"\u001b[39m)\n\u001b[1;32m     44\u001b[0m \u001b[38;5;28;01melse\u001b[39;00m:\n\u001b[1;32m     45\u001b[0m     new_line\u001b[38;5;241m.\u001b[39mappend(el)\n",
      "\u001b[0;31mTypeError\u001b[0m: Тип значения 14.5 не совпадает с типом столбца 2"
     ]
    }
   ],
   "source": [
    "print_table(set_values(table_data, [22, 18, 52, 14.5, \"пять\"], 2))  # Пример работы системы ошибок"
   ]
  },
  {
   "cell_type": "code",
   "execution_count": 2060,
   "id": "8f056b2a-6a48-4595-b3d2-5330c6a0c66e",
   "metadata": {},
   "outputs": [
    {
     "ename": "ValueError",
     "evalue": "Нет данных о значениях столбца 2",
     "output_type": "error",
     "traceback": [
      "\u001b[0;31m---------------------------------------------------------------------------\u001b[0m",
      "\u001b[0;31mValueError\u001b[0m                                Traceback (most recent call last)",
      "Cell \u001b[0;32mIn[2060], line 1\u001b[0m\n\u001b[0;32m----> 1\u001b[0m print_table(set_values(table_data, [], \u001b[38;5;241m2\u001b[39m))\n",
      "Cell \u001b[0;32mIn[1302], line 7\u001b[0m, in \u001b[0;36mset_values\u001b[0;34m(data, values, column)\u001b[0m\n\u001b[1;32m      5\u001b[0m     \u001b[38;5;28;01mraise\u001b[39;00m \u001b[38;5;167;01mValueError\u001b[39;00m(\u001b[38;5;124m\"\u001b[39m\u001b[38;5;124mНет данных\u001b[39m\u001b[38;5;124m\"\u001b[39m)\n\u001b[1;32m      6\u001b[0m \u001b[38;5;28;01mif\u001b[39;00m \u001b[38;5;129;01mnot\u001b[39;00m values:\n\u001b[0;32m----> 7\u001b[0m     \u001b[38;5;28;01mraise\u001b[39;00m \u001b[38;5;167;01mValueError\u001b[39;00m(\u001b[38;5;124mf\u001b[39m\u001b[38;5;124m\"\u001b[39m\u001b[38;5;124mНет данных о значениях столбца \u001b[39m\u001b[38;5;132;01m{\u001b[39;00mcolumn\u001b[38;5;132;01m}\u001b[39;00m\u001b[38;5;124m\"\u001b[39m)\n\u001b[1;32m      9\u001b[0m \u001b[38;5;66;03m# Проверка данных\u001b[39;00m\n\u001b[1;32m     10\u001b[0m \u001b[38;5;28;01mif\u001b[39;00m \u001b[38;5;28mlen\u001b[39m(data) \u001b[38;5;241m==\u001b[39m \u001b[38;5;241m1\u001b[39m:\n",
      "\u001b[0;31mValueError\u001b[0m: Нет данных о значениях столбца 2"
     ]
    }
   ],
   "source": [
    "print_table(set_values(table_data, [], 2))  # Пример работы системы ошибок"
   ]
  },
  {
   "cell_type": "code",
   "execution_count": 2062,
   "id": "d00b3a26-c85e-4e68-b6ee-0377febcdb7c",
   "metadata": {},
   "outputs": [
    {
     "ename": "ValueError",
     "evalue": "Нет данных",
     "output_type": "error",
     "traceback": [
      "\u001b[0;31m---------------------------------------------------------------------------\u001b[0m",
      "\u001b[0;31mValueError\u001b[0m                                Traceback (most recent call last)",
      "Cell \u001b[0;32mIn[2062], line 1\u001b[0m\n\u001b[0;32m----> 1\u001b[0m print_table(set_values([], [\u001b[38;5;241m1\u001b[39m, \u001b[38;5;241m4\u001b[39m, \u001b[38;5;241m2\u001b[39m, \u001b[38;5;241m6\u001b[39m, \u001b[38;5;241m7\u001b[39m], \u001b[38;5;241m2\u001b[39m))\n",
      "Cell \u001b[0;32mIn[1302], line 5\u001b[0m, in \u001b[0;36mset_values\u001b[0;34m(data, values, column)\u001b[0m\n\u001b[1;32m      1\u001b[0m \u001b[38;5;28;01mdef\u001b[39;00m \u001b[38;5;21mset_values\u001b[39m(data, values, column\u001b[38;5;241m=\u001b[39m\u001b[38;5;241m1\u001b[39m):\n\u001b[1;32m      2\u001b[0m \n\u001b[1;32m      3\u001b[0m     \u001b[38;5;66;03m# Проверка наличия данных\u001b[39;00m\n\u001b[1;32m      4\u001b[0m     \u001b[38;5;28;01mif\u001b[39;00m \u001b[38;5;129;01mnot\u001b[39;00m data:\n\u001b[0;32m----> 5\u001b[0m         \u001b[38;5;28;01mraise\u001b[39;00m \u001b[38;5;167;01mValueError\u001b[39;00m(\u001b[38;5;124m\"\u001b[39m\u001b[38;5;124mНет данных\u001b[39m\u001b[38;5;124m\"\u001b[39m)\n\u001b[1;32m      6\u001b[0m     \u001b[38;5;28;01mif\u001b[39;00m \u001b[38;5;129;01mnot\u001b[39;00m values:\n\u001b[1;32m      7\u001b[0m         \u001b[38;5;28;01mraise\u001b[39;00m \u001b[38;5;167;01mValueError\u001b[39;00m(\u001b[38;5;124mf\u001b[39m\u001b[38;5;124m\"\u001b[39m\u001b[38;5;124mНет данных о значениях столбца \u001b[39m\u001b[38;5;132;01m{\u001b[39;00mcolumn\u001b[38;5;132;01m}\u001b[39;00m\u001b[38;5;124m\"\u001b[39m)\n",
      "\u001b[0;31mValueError\u001b[0m: Нет данных"
     ]
    }
   ],
   "source": [
    "print_table(set_values([], [1, 4, 2, 6, 7], 2))  # Пример работы системы ошибок"
   ]
  },
  {
   "cell_type": "code",
   "execution_count": 2064,
   "id": "7a117070-f9e1-4f58-9f9e-860ac4d862f3",
   "metadata": {},
   "outputs": [
    {
     "ename": "IndexError",
     "evalue": "Некорректный номер столбца: -1. Всего столбцов: 3",
     "output_type": "error",
     "traceback": [
      "\u001b[0;31m---------------------------------------------------------------------------\u001b[0m",
      "\u001b[0;31mIndexError\u001b[0m                                Traceback (most recent call last)",
      "Cell \u001b[0;32mIn[2064], line 1\u001b[0m\n\u001b[0;32m----> 1\u001b[0m print_table(set_values(table_data, [\u001b[38;5;241m1\u001b[39m, \u001b[38;5;241m4\u001b[39m, \u001b[38;5;241m2\u001b[39m, \u001b[38;5;241m6\u001b[39m, \u001b[38;5;241m7\u001b[39m], \u001b[38;5;241m-\u001b[39m\u001b[38;5;241m1\u001b[39m))\n",
      "Cell \u001b[0;32mIn[1302], line 25\u001b[0m, in \u001b[0;36mset_values\u001b[0;34m(data, values, column)\u001b[0m\n\u001b[1;32m     22\u001b[0m \u001b[38;5;28;01mif\u001b[39;00m \u001b[38;5;28misinstance\u001b[39m(column, \u001b[38;5;28mint\u001b[39m):\n\u001b[1;32m     23\u001b[0m     \u001b[38;5;66;03m# Проверка корректности индекса введенного столбца\u001b[39;00m\n\u001b[1;32m     24\u001b[0m     \u001b[38;5;28;01mif\u001b[39;00m column \u001b[38;5;241m<\u001b[39m\u001b[38;5;241m=\u001b[39m \u001b[38;5;241m0\u001b[39m \u001b[38;5;129;01mor\u001b[39;00m column \u001b[38;5;241m>\u001b[39m column_count:\n\u001b[0;32m---> 25\u001b[0m         \u001b[38;5;28;01mraise\u001b[39;00m \u001b[38;5;167;01mIndexError\u001b[39;00m(\u001b[38;5;124mf\u001b[39m\u001b[38;5;124m\"\u001b[39m\u001b[38;5;124mНекорректный номер столбца: \u001b[39m\u001b[38;5;132;01m{\u001b[39;00mcolumn\u001b[38;5;132;01m}\u001b[39;00m\u001b[38;5;124m. Всего столбцов: \u001b[39m\u001b[38;5;132;01m{\u001b[39;00mcolumn_count\u001b[38;5;132;01m}\u001b[39;00m\u001b[38;5;124m\"\u001b[39m)\n\u001b[1;32m     27\u001b[0m     col_idx \u001b[38;5;241m=\u001b[39m column \u001b[38;5;241m-\u001b[39m \u001b[38;5;241m1\u001b[39m \n\u001b[1;32m     28\u001b[0m \u001b[38;5;28;01melse\u001b[39;00m:\n\u001b[1;32m     29\u001b[0m     \u001b[38;5;66;03m# Проверка корректности названия введенного столбца\u001b[39;00m\n",
      "\u001b[0;31mIndexError\u001b[0m: Некорректный номер столбца: -1. Всего столбцов: 3"
     ]
    }
   ],
   "source": [
    "print_table(set_values(table_data, [1, 4, 2, 6, 7], -1))  # Пример работы системы ошибок"
   ]
  },
  {
   "cell_type": "code",
   "execution_count": 2066,
   "id": "8bede486-845a-4348-8e88-774afd10f020",
   "metadata": {},
   "outputs": [
    {
     "ename": "ValueError",
     "evalue": "В заголовке нет столбца с названием 'dngj'",
     "output_type": "error",
     "traceback": [
      "\u001b[0;31m---------------------------------------------------------------------------\u001b[0m",
      "\u001b[0;31mValueError\u001b[0m                                Traceback (most recent call last)",
      "Cell \u001b[0;32mIn[2066], line 1\u001b[0m\n\u001b[0;32m----> 1\u001b[0m print_table(set_values(table_data, [\u001b[38;5;241m1\u001b[39m, \u001b[38;5;241m4\u001b[39m, \u001b[38;5;241m2\u001b[39m, \u001b[38;5;241m6\u001b[39m, \u001b[38;5;241m7\u001b[39m], \u001b[38;5;124m'\u001b[39m\u001b[38;5;124mdngj\u001b[39m\u001b[38;5;124m'\u001b[39m))\n",
      "Cell \u001b[0;32mIn[1302], line 31\u001b[0m, in \u001b[0;36mset_values\u001b[0;34m(data, values, column)\u001b[0m\n\u001b[1;32m     28\u001b[0m \u001b[38;5;28;01melse\u001b[39;00m:\n\u001b[1;32m     29\u001b[0m     \u001b[38;5;66;03m# Проверка корректности названия введенного столбца\u001b[39;00m\n\u001b[1;32m     30\u001b[0m     \u001b[38;5;28;01mif\u001b[39;00m column \u001b[38;5;129;01mnot\u001b[39;00m \u001b[38;5;129;01min\u001b[39;00m header:\n\u001b[0;32m---> 31\u001b[0m         \u001b[38;5;28;01mraise\u001b[39;00m \u001b[38;5;167;01mValueError\u001b[39;00m(\u001b[38;5;124mf\u001b[39m\u001b[38;5;124m\"\u001b[39m\u001b[38;5;124mВ заголовке нет столбца с названием \u001b[39m\u001b[38;5;124m'\u001b[39m\u001b[38;5;132;01m{\u001b[39;00mcolumn\u001b[38;5;132;01m}\u001b[39;00m\u001b[38;5;124m'\u001b[39m\u001b[38;5;124m\"\u001b[39m)\n\u001b[1;32m     32\u001b[0m     col_idx \u001b[38;5;241m=\u001b[39m header\u001b[38;5;241m.\u001b[39mindex(column)\n\u001b[1;32m     34\u001b[0m \u001b[38;5;66;03m# Заполнение нового списка данных\u001b[39;00m\n",
      "\u001b[0;31mValueError\u001b[0m: В заголовке нет столбца с названием 'dngj'"
     ]
    }
   ],
   "source": [
    "print_table(set_values(table_data, [1, 4, 2, 6, 7], 'dngj'))  # Пример работы системы ошибок"
   ]
  },
  {
   "cell_type": "markdown",
   "id": "6697b202-41e2-4c8b-b9e7-e746625b78d0",
   "metadata": {},
   "source": [
    "# Функция set_value()"
   ]
  },
  {
   "cell_type": "code",
   "execution_count": 2068,
   "id": "6bfacd9a-ecf4-4b0c-839d-cf419de4dc13",
   "metadata": {},
   "outputs": [
    {
     "name": "stdout",
     "output_type": "stream",
     "text": [
      "╒══════╤═════════╤═══════╤════════╕\n",
      "│   ID │ Name    │   Age │ City   │\n",
      "╞══════╪═════════╪═══════╪════════╡\n",
      "│    3 │ Charlie │    35 │ Paris  │\n",
      "╘══════╧═════════╧═══════╧════════╛\n",
      "Выведены данные с заменённым вторым столбцом:\n",
      "╒══════╤═════════╤═══════╤════════╕\n",
      "│   ID │ Name    │   Age │ City   │\n",
      "╞══════╪═════════╪═══════╪════════╡\n",
      "│    3 │ Charlie │    52 │ Paris  │\n",
      "╘══════╧═════════╧═══════╧════════╛\n"
     ]
    }
   ],
   "source": [
    "data = set_column_types('example_copied.csv', {2: 'str', 3: 'int'}, by_number=True)\n",
    "get_rows_by_index(\"example.csv\", (3), True)\n",
    "print_table(data)\n",
    "print(\"Выведены данные с заменённым вторым столбцом:\")\n",
    "print_table(set_value(data, 52, 3))"
   ]
  },
  {
   "cell_type": "code",
   "execution_count": 2070,
   "id": "d7a9b00b-0c6b-4880-8e5f-883f8b2e7f8b",
   "metadata": {},
   "outputs": [
    {
     "name": "stdout",
     "output_type": "stream",
     "text": [
      "╒══════╤═════════╤═══════╤════════╕\n",
      "│   ID │ Name    │   Age │ City   │\n",
      "╞══════╪═════════╪═══════╪════════╡\n",
      "│    3 │ Charlie │    35 │ Paris  │\n",
      "╘══════╧═════════╧═══════╧════════╛\n",
      "Выведены данные с заменённым вторым столбцом:\n",
      "╒══════╤════════╤═══════╤════════╕\n",
      "│   ID │ Name   │   Age │ City   │\n",
      "╞══════╪════════╪═══════╪════════╡\n",
      "│    3 │ Oleg   │    35 │ Paris  │\n",
      "╘══════╧════════╧═══════╧════════╛\n"
     ]
    }
   ],
   "source": [
    "print_table(data)\n",
    "print(\"Выведены данные с заменённым вторым столбцом:\")\n",
    "print_table(set_value(data, 'Oleg', 'Name'))"
   ]
  },
  {
   "cell_type": "code",
   "execution_count": 2072,
   "id": "5d099b62-e624-41a4-9c72-47ffb56d7eee",
   "metadata": {},
   "outputs": [
    {
     "ename": "ValueError",
     "evalue": "В заголовке нет столбца с названием 'sda'",
     "output_type": "error",
     "traceback": [
      "\u001b[0;31m---------------------------------------------------------------------------\u001b[0m",
      "\u001b[0;31mValueError\u001b[0m                                Traceback (most recent call last)",
      "Cell \u001b[0;32mIn[2072], line 1\u001b[0m\n\u001b[0;32m----> 1\u001b[0m print_table(set_value(data, \u001b[38;5;124m'\u001b[39m\u001b[38;5;124mOleg\u001b[39m\u001b[38;5;124m'\u001b[39m, \u001b[38;5;124m'\u001b[39m\u001b[38;5;124msda\u001b[39m\u001b[38;5;124m'\u001b[39m))\n",
      "Cell \u001b[0;32mIn[1426], line 29\u001b[0m, in \u001b[0;36mset_value\u001b[0;34m(data, value, column)\u001b[0m\n\u001b[1;32m     26\u001b[0m \u001b[38;5;28;01melse\u001b[39;00m:\n\u001b[1;32m     27\u001b[0m     \u001b[38;5;66;03m# Проверка корректности названия введенного столбца\u001b[39;00m\n\u001b[1;32m     28\u001b[0m     \u001b[38;5;28;01mif\u001b[39;00m column \u001b[38;5;129;01mnot\u001b[39;00m \u001b[38;5;129;01min\u001b[39;00m header:\n\u001b[0;32m---> 29\u001b[0m         \u001b[38;5;28;01mraise\u001b[39;00m \u001b[38;5;167;01mValueError\u001b[39;00m(\u001b[38;5;124mf\u001b[39m\u001b[38;5;124m\"\u001b[39m\u001b[38;5;124mВ заголовке нет столбца с названием \u001b[39m\u001b[38;5;124m'\u001b[39m\u001b[38;5;132;01m{\u001b[39;00mcolumn\u001b[38;5;132;01m}\u001b[39;00m\u001b[38;5;124m'\u001b[39m\u001b[38;5;124m\"\u001b[39m)\n\u001b[1;32m     30\u001b[0m     col_idx \u001b[38;5;241m=\u001b[39m header\u001b[38;5;241m.\u001b[39mindex(column)\n\u001b[1;32m     32\u001b[0m \u001b[38;5;66;03m# Заполнение нового списка данных\u001b[39;00m\n",
      "\u001b[0;31mValueError\u001b[0m: В заголовке нет столбца с названием 'sda'"
     ]
    }
   ],
   "source": [
    "print_table(set_value(data, 'Oleg', 'sda'))  # Пример работы системы ошибок"
   ]
  },
  {
   "cell_type": "code",
   "execution_count": 2074,
   "id": "08d77222-5474-4e33-8609-c84582e7a7a2",
   "metadata": {},
   "outputs": [
    {
     "ename": "ValueError",
     "evalue": "Нет данный о значении столбца 2",
     "output_type": "error",
     "traceback": [
      "\u001b[0;31m---------------------------------------------------------------------------\u001b[0m",
      "\u001b[0;31mValueError\u001b[0m                                Traceback (most recent call last)",
      "Cell \u001b[0;32mIn[2074], line 1\u001b[0m\n\u001b[0;32m----> 1\u001b[0m print_table(set_value(data, \u001b[38;5;124m'\u001b[39m\u001b[38;5;124m'\u001b[39m, \u001b[38;5;241m2\u001b[39m))\n",
      "Cell \u001b[0;32mIn[1426], line 7\u001b[0m, in \u001b[0;36mset_value\u001b[0;34m(data, value, column)\u001b[0m\n\u001b[1;32m      5\u001b[0m     \u001b[38;5;28;01mraise\u001b[39;00m \u001b[38;5;167;01mValueError\u001b[39;00m(\u001b[38;5;124m\"\u001b[39m\u001b[38;5;124mНет данных\u001b[39m\u001b[38;5;124m\"\u001b[39m)\n\u001b[1;32m      6\u001b[0m \u001b[38;5;28;01mif\u001b[39;00m \u001b[38;5;129;01mnot\u001b[39;00m value:\n\u001b[0;32m----> 7\u001b[0m     \u001b[38;5;28;01mraise\u001b[39;00m \u001b[38;5;167;01mValueError\u001b[39;00m(\u001b[38;5;124mf\u001b[39m\u001b[38;5;124m\"\u001b[39m\u001b[38;5;124mНет данный о значении столбца \u001b[39m\u001b[38;5;132;01m{\u001b[39;00mcolumn\u001b[38;5;132;01m}\u001b[39;00m\u001b[38;5;124m\"\u001b[39m)\n\u001b[1;32m      9\u001b[0m \u001b[38;5;66;03m# Проверка данных\u001b[39;00m\n\u001b[1;32m     10\u001b[0m \u001b[38;5;28;01mif\u001b[39;00m \u001b[38;5;28mlen\u001b[39m(data) \u001b[38;5;241m==\u001b[39m \u001b[38;5;241m1\u001b[39m:\n",
      "\u001b[0;31mValueError\u001b[0m: Нет данный о значении столбца 2"
     ]
    }
   ],
   "source": [
    "print_table(set_value(data, '', 2))  # Пример работы системы ошибок"
   ]
  },
  {
   "cell_type": "code",
   "execution_count": 2076,
   "id": "925f3dfe-b0dd-40c5-be22-6c4c028bd4f9",
   "metadata": {},
   "outputs": [
    {
     "ename": "ValueError",
     "evalue": "Нет данных",
     "output_type": "error",
     "traceback": [
      "\u001b[0;31m---------------------------------------------------------------------------\u001b[0m",
      "\u001b[0;31mValueError\u001b[0m                                Traceback (most recent call last)",
      "Cell \u001b[0;32mIn[2076], line 1\u001b[0m\n\u001b[0;32m----> 1\u001b[0m print_table(set_value([], \u001b[38;5;124m'\u001b[39m\u001b[38;5;124mOleg\u001b[39m\u001b[38;5;124m'\u001b[39m, \u001b[38;5;241m2\u001b[39m))\n",
      "Cell \u001b[0;32mIn[1426], line 5\u001b[0m, in \u001b[0;36mset_value\u001b[0;34m(data, value, column)\u001b[0m\n\u001b[1;32m      1\u001b[0m \u001b[38;5;28;01mdef\u001b[39;00m \u001b[38;5;21mset_value\u001b[39m(data, value, column\u001b[38;5;241m=\u001b[39m\u001b[38;5;241m1\u001b[39m):\n\u001b[1;32m      2\u001b[0m \n\u001b[1;32m      3\u001b[0m     \u001b[38;5;66;03m# Проверка наличия данных\u001b[39;00m\n\u001b[1;32m      4\u001b[0m     \u001b[38;5;28;01mif\u001b[39;00m \u001b[38;5;129;01mnot\u001b[39;00m data:\n\u001b[0;32m----> 5\u001b[0m         \u001b[38;5;28;01mraise\u001b[39;00m \u001b[38;5;167;01mValueError\u001b[39;00m(\u001b[38;5;124m\"\u001b[39m\u001b[38;5;124mНет данных\u001b[39m\u001b[38;5;124m\"\u001b[39m)\n\u001b[1;32m      6\u001b[0m     \u001b[38;5;28;01mif\u001b[39;00m \u001b[38;5;129;01mnot\u001b[39;00m value:\n\u001b[1;32m      7\u001b[0m         \u001b[38;5;28;01mraise\u001b[39;00m \u001b[38;5;167;01mValueError\u001b[39;00m(\u001b[38;5;124mf\u001b[39m\u001b[38;5;124m\"\u001b[39m\u001b[38;5;124mНет данный о значении столбца \u001b[39m\u001b[38;5;132;01m{\u001b[39;00mcolumn\u001b[38;5;132;01m}\u001b[39;00m\u001b[38;5;124m\"\u001b[39m)\n",
      "\u001b[0;31mValueError\u001b[0m: Нет данных"
     ]
    }
   ],
   "source": [
    "print_table(set_value([], 'Oleg', 2))  # Пример работы системы ошибок"
   ]
  },
  {
   "cell_type": "code",
   "execution_count": 2078,
   "id": "20fc7f86-f3ee-4cd1-afe0-b40d70601a9d",
   "metadata": {},
   "outputs": [
    {
     "ename": "ValueError",
     "evalue": "В таблице должна быть одна строка без учёта заголовка",
     "output_type": "error",
     "traceback": [
      "\u001b[0;31m---------------------------------------------------------------------------\u001b[0m",
      "\u001b[0;31mValueError\u001b[0m                                Traceback (most recent call last)",
      "Cell \u001b[0;32mIn[2078], line 1\u001b[0m\n\u001b[0;32m----> 1\u001b[0m print_table(set_value(table, \u001b[38;5;124m'\u001b[39m\u001b[38;5;124mOleg\u001b[39m\u001b[38;5;124m'\u001b[39m, \u001b[38;5;241m2\u001b[39m))\n",
      "Cell \u001b[0;32mIn[1426], line 13\u001b[0m, in \u001b[0;36mset_value\u001b[0;34m(data, value, column)\u001b[0m\n\u001b[1;32m     11\u001b[0m     \u001b[38;5;28;01mraise\u001b[39;00m \u001b[38;5;167;01mValueError\u001b[39;00m(\u001b[38;5;124m\"\u001b[39m\u001b[38;5;124mТаблица содержит только заголовок\u001b[39m\u001b[38;5;124m\"\u001b[39m)\n\u001b[1;32m     12\u001b[0m \u001b[38;5;28;01mif\u001b[39;00m \u001b[38;5;28mlen\u001b[39m(data) \u001b[38;5;241m>\u001b[39m \u001b[38;5;241m2\u001b[39m:\n\u001b[0;32m---> 13\u001b[0m     \u001b[38;5;28;01mraise\u001b[39;00m \u001b[38;5;167;01mValueError\u001b[39;00m(\u001b[38;5;124m\"\u001b[39m\u001b[38;5;124mВ таблице должна быть одна строка без учёта заголовка\u001b[39m\u001b[38;5;124m\"\u001b[39m)\n\u001b[1;32m     15\u001b[0m header \u001b[38;5;241m=\u001b[39m data[\u001b[38;5;241m0\u001b[39m]  \u001b[38;5;66;03m# Заголовок\u001b[39;00m\n\u001b[1;32m     16\u001b[0m column_count \u001b[38;5;241m=\u001b[39m \u001b[38;5;28mlen\u001b[39m(header)  \u001b[38;5;66;03m# Количество столбцов в файле\u001b[39;00m\n",
      "\u001b[0;31mValueError\u001b[0m: В таблице должна быть одна строка без учёта заголовка"
     ]
    }
   ],
   "source": [
    "print_table(set_value(table, 'Oleg', 2))  # Пример работы системы ошибок"
   ]
  },
  {
   "cell_type": "code",
   "execution_count": 2080,
   "id": "1b5b73bb-f6d0-436f-87b4-56cb9792d555",
   "metadata": {},
   "outputs": [
    {
     "ename": "TypeError",
     "evalue": "Тип значения Oleg не совпадает с типом столбца 3",
     "output_type": "error",
     "traceback": [
      "\u001b[0;31m---------------------------------------------------------------------------\u001b[0m",
      "\u001b[0;31mTypeError\u001b[0m                                 Traceback (most recent call last)",
      "Cell \u001b[0;32mIn[2080], line 1\u001b[0m\n\u001b[0;32m----> 1\u001b[0m print_table(set_value(data, \u001b[38;5;124m'\u001b[39m\u001b[38;5;124mOleg\u001b[39m\u001b[38;5;124m'\u001b[39m, \u001b[38;5;241m3\u001b[39m))\n",
      "Cell \u001b[0;32mIn[1426], line 41\u001b[0m, in \u001b[0;36mset_value\u001b[0;34m(data, value, column)\u001b[0m\n\u001b[1;32m     39\u001b[0m         new_line\u001b[38;5;241m.\u001b[39mappend(value)\n\u001b[1;32m     40\u001b[0m     \u001b[38;5;28;01melse\u001b[39;00m:\n\u001b[0;32m---> 41\u001b[0m         \u001b[38;5;28;01mraise\u001b[39;00m \u001b[38;5;167;01mTypeError\u001b[39;00m(\u001b[38;5;124mf\u001b[39m\u001b[38;5;124m\"\u001b[39m\u001b[38;5;124mТип значения \u001b[39m\u001b[38;5;132;01m{\u001b[39;00mvalue\u001b[38;5;132;01m}\u001b[39;00m\u001b[38;5;124m не совпадает с типом столбца \u001b[39m\u001b[38;5;132;01m{\u001b[39;00mcolumn\u001b[38;5;132;01m}\u001b[39;00m\u001b[38;5;124m\"\u001b[39m)\n\u001b[1;32m     42\u001b[0m \u001b[38;5;28;01melse\u001b[39;00m:\n\u001b[1;32m     43\u001b[0m     new_line\u001b[38;5;241m.\u001b[39mappend(el)\n",
      "\u001b[0;31mTypeError\u001b[0m: Тип значения Oleg не совпадает с типом столбца 3"
     ]
    }
   ],
   "source": [
    "print_table(set_value(data, 'Oleg', 3))  # Пример работы системы ошибок"
   ]
  },
  {
   "cell_type": "markdown",
   "id": "3c67694f-c085-4e8b-abcf-adedb656916f",
   "metadata": {},
   "source": [
    "# Функция concat() "
   ]
  },
  {
   "cell_type": "code",
   "execution_count": 2082,
   "id": "cb04a8b7-bbb2-4818-abdb-ffde19f23742",
   "metadata": {},
   "outputs": [
    {
     "data": {
      "text/plain": [
       "[['Name', 'Age', 'City'],\n",
       " ['Alice', '30', 'New York'],\n",
       " ['Bob', '25', 'London'],\n",
       " ['Charlie', '35', 'Paris'],\n",
       " ['David', '40', 'Berlin'],\n",
       " ['Eve', '28', 'Tokyo']]"
      ]
     },
     "execution_count": 2082,
     "metadata": {},
     "output_type": "execute_result"
    }
   ],
   "source": [
    "table1 = table\n",
    "table1"
   ]
  },
  {
   "cell_type": "code",
   "execution_count": 2084,
   "id": "de3896b3-91ed-4cbe-8305-e8c51558dbca",
   "metadata": {},
   "outputs": [
    {
     "data": {
      "text/plain": [
       "[['Name', 'Age', 'City'],\n",
       " ['Gosha', '56', 'Moscow'],\n",
       " ['Irina', '43', 'Toronto']]"
      ]
     },
     "execution_count": 2084,
     "metadata": {},
     "output_type": "execute_result"
    }
   ],
   "source": [
    "table2 = [['Name', 'Age', 'City'],\n",
    " ['Gosha', '56', 'Moscow'],\n",
    " ['Irina', '43', 'Toronto']]\n",
    "table2"
   ]
  },
  {
   "cell_type": "code",
   "execution_count": 2086,
   "id": "b3786754-ed3f-47cb-b63f-74c853875c07",
   "metadata": {},
   "outputs": [
    {
     "name": "stdout",
     "output_type": "stream",
     "text": [
      "╒═════════╤═══════╤══════════╕\n",
      "│ Name    │   Age │ City     │\n",
      "╞═════════╪═══════╪══════════╡\n",
      "│ Alice   │    30 │ New York │\n",
      "├─────────┼───────┼──────────┤\n",
      "│ Bob     │    25 │ London   │\n",
      "├─────────┼───────┼──────────┤\n",
      "│ Charlie │    35 │ Paris    │\n",
      "├─────────┼───────┼──────────┤\n",
      "│ David   │    40 │ Berlin   │\n",
      "├─────────┼───────┼──────────┤\n",
      "│ Eve     │    28 │ Tokyo    │\n",
      "╘═════════╧═══════╧══════════╛\n",
      "╒════════╤═══════╤═════════╕\n",
      "│ Name   │   Age │ City    │\n",
      "╞════════╪═══════╪═════════╡\n",
      "│ Gosha  │    56 │ Moscow  │\n",
      "├────────┼───────┼─────────┤\n",
      "│ Irina  │    43 │ Toronto │\n",
      "╘════════╧═══════╧═════════╛\n"
     ]
    }
   ],
   "source": [
    "print_table(table1)\n",
    "print_table(table2)"
   ]
  },
  {
   "cell_type": "code",
   "execution_count": 2088,
   "id": "b14a62f0-0634-4341-8e2e-d0b70c48a11b",
   "metadata": {},
   "outputs": [
    {
     "name": "stdout",
     "output_type": "stream",
     "text": [
      "╒═════════╤═══════╤══════════╕\n",
      "│ Name    │   Age │ City     │\n",
      "╞═════════╪═══════╪══════════╡\n",
      "│ Alice   │    30 │ New York │\n",
      "├─────────┼───────┼──────────┤\n",
      "│ Bob     │    25 │ London   │\n",
      "├─────────┼───────┼──────────┤\n",
      "│ Charlie │    35 │ Paris    │\n",
      "├─────────┼───────┼──────────┤\n",
      "│ David   │    40 │ Berlin   │\n",
      "├─────────┼───────┼──────────┤\n",
      "│ Eve     │    28 │ Tokyo    │\n",
      "├─────────┼───────┼──────────┤\n",
      "│ Gosha   │    56 │ Moscow   │\n",
      "├─────────┼───────┼──────────┤\n",
      "│ Irina   │    43 │ Toronto  │\n",
      "╘═════════╧═══════╧══════════╛\n"
     ]
    }
   ],
   "source": [
    "print_table(concat(table1, table2))"
   ]
  },
  {
   "cell_type": "code",
   "execution_count": 2090,
   "id": "06635d1e-7bfd-4bbc-98a2-272f5937b64c",
   "metadata": {},
   "outputs": [
    {
     "ename": "ValueError",
     "evalue": "Нет данных в []",
     "output_type": "error",
     "traceback": [
      "\u001b[0;31m---------------------------------------------------------------------------\u001b[0m",
      "\u001b[0;31mValueError\u001b[0m                                Traceback (most recent call last)",
      "Cell \u001b[0;32mIn[2090], line 1\u001b[0m\n\u001b[0;32m----> 1\u001b[0m print_table(concat(table1, []))\n",
      "Cell \u001b[0;32mIn[1598], line 13\u001b[0m, in \u001b[0;36mconcat\u001b[0;34m(data1, data2)\u001b[0m\n\u001b[1;32m     11\u001b[0m \u001b[38;5;66;03m# Проверка наличия данных data2\u001b[39;00m\n\u001b[1;32m     12\u001b[0m \u001b[38;5;28;01mif\u001b[39;00m \u001b[38;5;129;01mnot\u001b[39;00m data2:\n\u001b[0;32m---> 13\u001b[0m     \u001b[38;5;28;01mraise\u001b[39;00m \u001b[38;5;167;01mValueError\u001b[39;00m(\u001b[38;5;124mf\u001b[39m\u001b[38;5;124m\"\u001b[39m\u001b[38;5;124mНет данных в \u001b[39m\u001b[38;5;132;01m{\u001b[39;00mdata2\u001b[38;5;132;01m}\u001b[39;00m\u001b[38;5;124m\"\u001b[39m)\n\u001b[1;32m     15\u001b[0m \u001b[38;5;66;03m# Проверка данных data2\u001b[39;00m\n\u001b[1;32m     16\u001b[0m \u001b[38;5;28;01mif\u001b[39;00m \u001b[38;5;28mlen\u001b[39m(data2) \u001b[38;5;241m==\u001b[39m \u001b[38;5;241m1\u001b[39m:\n",
      "\u001b[0;31mValueError\u001b[0m: Нет данных в []"
     ]
    }
   ],
   "source": [
    "print_table(concat(table1, []))  # Пример работы системы ошибок"
   ]
  },
  {
   "cell_type": "code",
   "execution_count": 2092,
   "id": "d63217ad-7614-4845-b425-a5159c76bfe3",
   "metadata": {},
   "outputs": [
    {
     "data": {
      "text/plain": [
       "[['Gosha', '56', 'Moscow'], ['Irina', '43', 'Toronto']]"
      ]
     },
     "execution_count": 2092,
     "metadata": {},
     "output_type": "execute_result"
    }
   ],
   "source": [
    "table2 = table2[1:]\n",
    "table2"
   ]
  },
  {
   "cell_type": "code",
   "execution_count": 2094,
   "id": "9c701d2f-d5f9-41fa-9b1f-ef0cd85570f6",
   "metadata": {},
   "outputs": [
    {
     "ename": "ValueError",
     "evalue": "Разные форматы таблиц",
     "output_type": "error",
     "traceback": [
      "\u001b[0;31m---------------------------------------------------------------------------\u001b[0m",
      "\u001b[0;31mValueError\u001b[0m                                Traceback (most recent call last)",
      "Cell \u001b[0;32mIn[2094], line 1\u001b[0m\n\u001b[0;32m----> 1\u001b[0m print_table(concat(table1, table2))\n",
      "Cell \u001b[0;32mIn[1598], line 26\u001b[0m, in \u001b[0;36mconcat\u001b[0;34m(data1, data2)\u001b[0m\n\u001b[1;32m     24\u001b[0m \u001b[38;5;66;03m# Проверка совпадения форматов data1 и data2\u001b[39;00m\n\u001b[1;32m     25\u001b[0m \u001b[38;5;28;01mif\u001b[39;00m header1 \u001b[38;5;241m!=\u001b[39m header2 \u001b[38;5;129;01mor\u001b[39;00m column_count1 \u001b[38;5;241m!=\u001b[39m column_count2:\n\u001b[0;32m---> 26\u001b[0m     \u001b[38;5;28;01mraise\u001b[39;00m \u001b[38;5;167;01mValueError\u001b[39;00m(\u001b[38;5;124m\"\u001b[39m\u001b[38;5;124mРазные форматы таблиц\u001b[39m\u001b[38;5;124m\"\u001b[39m)\n\u001b[1;32m     28\u001b[0m \u001b[38;5;66;03m# Создание новых данных\u001b[39;00m\n\u001b[1;32m     29\u001b[0m new_data \u001b[38;5;241m=\u001b[39m []\n",
      "\u001b[0;31mValueError\u001b[0m: Разные форматы таблиц"
     ]
    }
   ],
   "source": [
    "print_table(concat(table1, table2))  # Пример работы системы ошибок"
   ]
  },
  {
   "cell_type": "code",
   "execution_count": 2096,
   "id": "ad424939-ca5c-45b1-9b01-a35811636b11",
   "metadata": {},
   "outputs": [],
   "source": [
    "table2 = [['Name', 'Age'],\n",
    " ['Gosha', '56'],\n",
    " ['Irina', '43']]"
   ]
  },
  {
   "cell_type": "code",
   "execution_count": 2098,
   "id": "aea61a26-8b0d-4ce8-a009-9b65b909cb3e",
   "metadata": {},
   "outputs": [
    {
     "ename": "ValueError",
     "evalue": "Разные форматы таблиц",
     "output_type": "error",
     "traceback": [
      "\u001b[0;31m---------------------------------------------------------------------------\u001b[0m",
      "\u001b[0;31mValueError\u001b[0m                                Traceback (most recent call last)",
      "Cell \u001b[0;32mIn[2098], line 1\u001b[0m\n\u001b[0;32m----> 1\u001b[0m print_table(concat(table1, table2))\n",
      "Cell \u001b[0;32mIn[1598], line 26\u001b[0m, in \u001b[0;36mconcat\u001b[0;34m(data1, data2)\u001b[0m\n\u001b[1;32m     24\u001b[0m \u001b[38;5;66;03m# Проверка совпадения форматов data1 и data2\u001b[39;00m\n\u001b[1;32m     25\u001b[0m \u001b[38;5;28;01mif\u001b[39;00m header1 \u001b[38;5;241m!=\u001b[39m header2 \u001b[38;5;129;01mor\u001b[39;00m column_count1 \u001b[38;5;241m!=\u001b[39m column_count2:\n\u001b[0;32m---> 26\u001b[0m     \u001b[38;5;28;01mraise\u001b[39;00m \u001b[38;5;167;01mValueError\u001b[39;00m(\u001b[38;5;124m\"\u001b[39m\u001b[38;5;124mРазные форматы таблиц\u001b[39m\u001b[38;5;124m\"\u001b[39m)\n\u001b[1;32m     28\u001b[0m \u001b[38;5;66;03m# Создание новых данных\u001b[39;00m\n\u001b[1;32m     29\u001b[0m new_data \u001b[38;5;241m=\u001b[39m []\n",
      "\u001b[0;31mValueError\u001b[0m: Разные форматы таблиц"
     ]
    }
   ],
   "source": [
    "print_table(concat(table1, table2))  # Пример работы системы ошибок"
   ]
  },
  {
   "cell_type": "markdown",
   "id": "3c83cf0a-9202-4829-8d4a-eb3d0c353689",
   "metadata": {},
   "source": [
    "# Функция split()"
   ]
  },
  {
   "cell_type": "code",
   "execution_count": 2100,
   "id": "3fe40b6d-bdaf-4bf0-a945-8a912578bd92",
   "metadata": {},
   "outputs": [
    {
     "name": "stdout",
     "output_type": "stream",
     "text": [
      "╒═════════╤═══════╤══════════╕\n",
      "│ Name    │   Age │ City     │\n",
      "╞═════════╪═══════╪══════════╡\n",
      "│ Alice   │    30 │ New York │\n",
      "├─────────┼───────┼──────────┤\n",
      "│ Bob     │    25 │ London   │\n",
      "├─────────┼───────┼──────────┤\n",
      "│ Charlie │    35 │ Paris    │\n",
      "├─────────┼───────┼──────────┤\n",
      "│ David   │    40 │ Berlin   │\n",
      "├─────────┼───────┼──────────┤\n",
      "│ Eve     │    28 │ Tokyo    │\n",
      "╘═════════╧═══════╧══════════╛\n",
      "Первая таблица, полученная с помощью split() по 3-й строке:\n",
      "╒═════════╤═══════╤══════════╕\n",
      "│ Name    │   Age │ City     │\n",
      "╞═════════╪═══════╪══════════╡\n",
      "│ Alice   │    30 │ New York │\n",
      "├─────────┼───────┼──────────┤\n",
      "│ Bob     │    25 │ London   │\n",
      "├─────────┼───────┼──────────┤\n",
      "│ Charlie │    35 │ Paris    │\n",
      "╘═════════╧═══════╧══════════╛\n",
      "Вторая таблица, полученная с помощью split() по 3-й строке:\n",
      "╒════════╤═══════╤════════╕\n",
      "│ Name   │   Age │ City   │\n",
      "╞════════╪═══════╪════════╡\n",
      "│ David  │    40 │ Berlin │\n",
      "├────────┼───────┼────────┤\n",
      "│ Eve    │    28 │ Tokyo  │\n",
      "╘════════╧═══════╧════════╛\n"
     ]
    }
   ],
   "source": [
    "data1, data2 = split(table, 3)\n",
    "print_table(table)\n",
    "print(\"Первая таблица, полученная с помощью split() по 3-й строке:\")\n",
    "print_table(data1)\n",
    "print(\"Вторая таблица, полученная с помощью split() по 3-й строке:\")\n",
    "print_table(data2)"
   ]
  },
  {
   "cell_type": "code",
   "execution_count": 2102,
   "id": "c532f976-bc9c-4e77-84ce-4562425cd03a",
   "metadata": {},
   "outputs": [
    {
     "ename": "ValueError",
     "evalue": "Значение разделительной строки введено некорректно",
     "output_type": "error",
     "traceback": [
      "\u001b[0;31m---------------------------------------------------------------------------\u001b[0m",
      "\u001b[0;31mValueError\u001b[0m                                Traceback (most recent call last)",
      "Cell \u001b[0;32mIn[2102], line 1\u001b[0m\n\u001b[0;32m----> 1\u001b[0m split(table, \u001b[38;5;241m5\u001b[39m)\n",
      "Cell \u001b[0;32mIn[1638], line 17\u001b[0m, in \u001b[0;36msplit\u001b[0;34m(data, line_num)\u001b[0m\n\u001b[1;32m     15\u001b[0m \u001b[38;5;66;03m# Проверка корректности переданного значения строки\u001b[39;00m\n\u001b[1;32m     16\u001b[0m \u001b[38;5;28;01mif\u001b[39;00m line_num \u001b[38;5;241m>\u001b[39m\u001b[38;5;241m=\u001b[39m \u001b[38;5;28mlen\u001b[39m(data) \u001b[38;5;241m-\u001b[39m \u001b[38;5;241m1\u001b[39m \u001b[38;5;129;01mor\u001b[39;00m line_num \u001b[38;5;241m<\u001b[39m\u001b[38;5;241m=\u001b[39m \u001b[38;5;241m0\u001b[39m:\n\u001b[0;32m---> 17\u001b[0m     \u001b[38;5;28;01mraise\u001b[39;00m \u001b[38;5;167;01mValueError\u001b[39;00m(\u001b[38;5;124m\"\u001b[39m\u001b[38;5;124mЗначение разделительной строки введено некорректно\u001b[39m\u001b[38;5;124m\"\u001b[39m)\n\u001b[1;32m     19\u001b[0m header \u001b[38;5;241m=\u001b[39m data[\u001b[38;5;241m0\u001b[39m]  \u001b[38;5;66;03m# Заголовок\u001b[39;00m\n\u001b[1;32m     21\u001b[0m \u001b[38;5;66;03m# Новые таблицы\u001b[39;00m\n",
      "\u001b[0;31mValueError\u001b[0m: Значение разделительной строки введено некорректно"
     ]
    }
   ],
   "source": [
    "split(table, 5)  # Пример работы системы ошибок"
   ]
  },
  {
   "cell_type": "code",
   "execution_count": 2104,
   "id": "91f760e1-9104-4ac6-8a99-09dc0b3f3d34",
   "metadata": {},
   "outputs": [
    {
     "ename": "ValueError",
     "evalue": "Нет данных",
     "output_type": "error",
     "traceback": [
      "\u001b[0;31m---------------------------------------------------------------------------\u001b[0m",
      "\u001b[0;31mValueError\u001b[0m                                Traceback (most recent call last)",
      "Cell \u001b[0;32mIn[2104], line 1\u001b[0m\n\u001b[0;32m----> 1\u001b[0m split([], \u001b[38;5;241m3\u001b[39m)\n",
      "Cell \u001b[0;32mIn[1638], line 5\u001b[0m, in \u001b[0;36msplit\u001b[0;34m(data, line_num)\u001b[0m\n\u001b[1;32m      1\u001b[0m \u001b[38;5;28;01mdef\u001b[39;00m \u001b[38;5;21msplit\u001b[39m(data, line_num):\n\u001b[1;32m      2\u001b[0m \n\u001b[1;32m      3\u001b[0m     \u001b[38;5;66;03m# Проверка наличия данных\u001b[39;00m\n\u001b[1;32m      4\u001b[0m     \u001b[38;5;28;01mif\u001b[39;00m \u001b[38;5;129;01mnot\u001b[39;00m data:\n\u001b[0;32m----> 5\u001b[0m         \u001b[38;5;28;01mraise\u001b[39;00m \u001b[38;5;167;01mValueError\u001b[39;00m(\u001b[38;5;124m\"\u001b[39m\u001b[38;5;124mНет данных\u001b[39m\u001b[38;5;124m\"\u001b[39m)\n\u001b[1;32m      7\u001b[0m     \u001b[38;5;66;03m# Проверка наличия рвзделительной строки\u001b[39;00m\n\u001b[1;32m      8\u001b[0m     \u001b[38;5;28;01mif\u001b[39;00m \u001b[38;5;129;01mnot\u001b[39;00m line_num:\n",
      "\u001b[0;31mValueError\u001b[0m: Нет данных"
     ]
    }
   ],
   "source": [
    "split([], 3)  # Пример работы системы ошибок"
   ]
  },
  {
   "cell_type": "markdown",
   "id": "1cc78fe6-a768-46c8-b851-14b8084b8bcc",
   "metadata": {},
   "source": [
    "# Модифицированная функция load_table с определением типа столбцов"
   ]
  },
  {
   "cell_type": "code",
   "execution_count": 2106,
   "id": "63b81365-0444-49bf-94b4-2b6eb2ca6bda",
   "metadata": {},
   "outputs": [
    {
     "name": "stdout",
     "output_type": "stream",
     "text": [
      "Загружено из 'example.csv':\n",
      "╒═════════╤═══════╤══════════╕\n",
      "│ Name    │   Age │ City     │\n",
      "╞═════════╪═══════╪══════════╡\n",
      "│ Alice   │    30 │ New York │\n",
      "├─────────┼───────┼──────────┤\n",
      "│ Bob     │    25 │ London   │\n",
      "├─────────┼───────┼──────────┤\n",
      "│ Charlie │    35 │ Paris    │\n",
      "├─────────┼───────┼──────────┤\n",
      "│ David   │    40 │ Berlin   │\n",
      "├─────────┼───────┼──────────┤\n",
      "│ Eve     │    28 │ Tokyo    │\n",
      "╘═════════╧═══════╧══════════╛\n",
      "Типы столбцов: ['str', 'int', 'str']\n"
     ]
    }
   ],
   "source": [
    "data, types = load_table('example.csv', detect_types=True)\n",
    "print(\"Загружено из 'example.csv':\")\n",
    "print_table(data)\n",
    "print(\"Типы столбцов:\", types)"
   ]
  },
  {
   "cell_type": "code",
   "execution_count": null,
   "id": "0dd91af6-5def-41d1-9fe3-3d34f1140f41",
   "metadata": {},
   "outputs": [],
   "source": []
  }
 ],
 "metadata": {
  "kernelspec": {
   "display_name": "Python 3 (ipykernel)",
   "language": "python",
   "name": "python3"
  },
  "language_info": {
   "codemirror_mode": {
    "name": "ipython",
    "version": 3
   },
   "file_extension": ".py",
   "mimetype": "text/x-python",
   "name": "python",
   "nbconvert_exporter": "python",
   "pygments_lexer": "ipython3",
   "version": "3.12.4"
  }
 },
 "nbformat": 4,
 "nbformat_minor": 5
}
